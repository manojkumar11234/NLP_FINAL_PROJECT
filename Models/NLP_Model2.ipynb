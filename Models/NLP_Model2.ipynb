{
 "cells": [
  {
   "cell_type": "code",
   "execution_count": 2,
   "id": "a8f620a0",
   "metadata": {},
   "outputs": [
    {
     "name": "stderr",
     "output_type": "stream",
     "text": [
      "Using TensorFlow backend.\n"
     ]
    }
   ],
   "source": [
    "#importing numpy and pandas libraries for data operations and data loading\n",
    "import numpy as np \n",
    "import pandas as pd \n",
    "#importing nltk and tensorflow preprosessing libraries for data processing and feature engineering\n",
    "from nltk.stem.wordnet import WordNetLemmatizer\n",
    "from nltk import pos_tag\n",
    "from nltk.corpus import wordnet\n",
    "from nltk.corpus import stopwords\n",
    "from nltk.stem.wordnet import WordNetLemmatizer\n",
    "from tensorflow.keras.preprocessing.text import Tokenizer\n",
    "from tensorflow.keras.preprocessing.sequence import pad_sequences\n",
    "#importing keras and tensorflow libraries for word embeddings and model building\n",
    "import tensorflow as tf\n",
    "from tensorflow.keras.models import Sequential,Model\n",
    "from tensorflow.keras.callbacks import EarlyStopping\n",
    "from keras.callbacks import ModelCheckpoint, ReduceLROnPlateau\n",
    "from keras.layers.normalization import BatchNormalization\n",
    "from tensorflow.keras.preprocessing.text import Tokenizer\n",
    "from tensorflow.keras.layers import LSTM, Dense, Bidirectional,Input\n",
    "from tensorflow.keras.layers import Dropout, SpatialDropout1D, TimeDistributed,Flatten, GlobalMaxPool1D\n",
    "from tensorflow.keras.layers import Embedding\n",
    "from tensorflow.keras.layers import multiply\n",
    "import seaborn as sns\n",
    "import matplotlib.pyplot as plt\n",
    "from tensorflow.keras import layers, utils, callbacks, optimizers, regularizers\n",
    "import re\n",
    "#importing libraries for splitting the data and for tracking the progress\n",
    "from tqdm import tqdm\n",
    "from sklearn.model_selection import train_test_split\n"
   ]
  },
  {
   "cell_type": "code",
   "execution_count": 2,
   "id": "03329a47",
   "metadata": {},
   "outputs": [
    {
     "name": "stdout",
     "output_type": "stream",
     "text": [
      "Requirement already satisfied: numpy==1.19.5 in /Library/anaconda3/lib/python3.7/site-packages (1.19.5)\n",
      "Note: you may need to restart the kernel to use updated packages.\n"
     ]
    }
   ],
   "source": [
    "#installing numpy 1.19.5 to balance with tensorflow\n",
    "pip install numpy==1.19.5"
   ]
  },
  {
   "cell_type": "code",
   "execution_count": 3,
   "id": "be71584d",
   "metadata": {},
   "outputs": [],
   "source": [
    "#Reading the training data from train.csv\n",
    "train_df=pd.read_csv('train.csv')\n"
   ]
  },
  {
   "cell_type": "code",
   "execution_count": 4,
   "id": "291ba855",
   "metadata": {},
   "outputs": [
    {
     "data": {
      "text/html": [
       "<div>\n",
       "<style scoped>\n",
       "    .dataframe tbody tr th:only-of-type {\n",
       "        vertical-align: middle;\n",
       "    }\n",
       "\n",
       "    .dataframe tbody tr th {\n",
       "        vertical-align: top;\n",
       "    }\n",
       "\n",
       "    .dataframe thead th {\n",
       "        text-align: right;\n",
       "    }\n",
       "</style>\n",
       "<table border=\"1\" class=\"dataframe\">\n",
       "  <thead>\n",
       "    <tr style=\"text-align: right;\">\n",
       "      <th></th>\n",
       "      <th>id</th>\n",
       "      <th>qid1</th>\n",
       "      <th>qid2</th>\n",
       "      <th>question1</th>\n",
       "      <th>question2</th>\n",
       "      <th>is_duplicate</th>\n",
       "    </tr>\n",
       "  </thead>\n",
       "  <tbody>\n",
       "    <tr>\n",
       "      <th>0</th>\n",
       "      <td>0</td>\n",
       "      <td>1</td>\n",
       "      <td>2</td>\n",
       "      <td>What is the step by step guide to invest in sh...</td>\n",
       "      <td>What is the step by step guide to invest in sh...</td>\n",
       "      <td>0</td>\n",
       "    </tr>\n",
       "    <tr>\n",
       "      <th>1</th>\n",
       "      <td>1</td>\n",
       "      <td>3</td>\n",
       "      <td>4</td>\n",
       "      <td>What is the story of Kohinoor (Koh-i-Noor) Dia...</td>\n",
       "      <td>What would happen if the Indian government sto...</td>\n",
       "      <td>0</td>\n",
       "    </tr>\n",
       "    <tr>\n",
       "      <th>2</th>\n",
       "      <td>2</td>\n",
       "      <td>5</td>\n",
       "      <td>6</td>\n",
       "      <td>How can I increase the speed of my internet co...</td>\n",
       "      <td>How can Internet speed be increased by hacking...</td>\n",
       "      <td>0</td>\n",
       "    </tr>\n",
       "    <tr>\n",
       "      <th>3</th>\n",
       "      <td>3</td>\n",
       "      <td>7</td>\n",
       "      <td>8</td>\n",
       "      <td>Why am I mentally very lonely? How can I solve...</td>\n",
       "      <td>Find the remainder when [math]23^{24}[/math] i...</td>\n",
       "      <td>0</td>\n",
       "    </tr>\n",
       "    <tr>\n",
       "      <th>4</th>\n",
       "      <td>4</td>\n",
       "      <td>9</td>\n",
       "      <td>10</td>\n",
       "      <td>Which one dissolve in water quikly sugar, salt...</td>\n",
       "      <td>Which fish would survive in salt water?</td>\n",
       "      <td>0</td>\n",
       "    </tr>\n",
       "  </tbody>\n",
       "</table>\n",
       "</div>"
      ],
      "text/plain": [
       "   id  qid1  qid2                                          question1  \\\n",
       "0   0     1     2  What is the step by step guide to invest in sh...   \n",
       "1   1     3     4  What is the story of Kohinoor (Koh-i-Noor) Dia...   \n",
       "2   2     5     6  How can I increase the speed of my internet co...   \n",
       "3   3     7     8  Why am I mentally very lonely? How can I solve...   \n",
       "4   4     9    10  Which one dissolve in water quikly sugar, salt...   \n",
       "\n",
       "                                           question2  is_duplicate  \n",
       "0  What is the step by step guide to invest in sh...             0  \n",
       "1  What would happen if the Indian government sto...             0  \n",
       "2  How can Internet speed be increased by hacking...             0  \n",
       "3  Find the remainder when [math]23^{24}[/math] i...             0  \n",
       "4            Which fish would survive in salt water?             0  "
      ]
     },
     "execution_count": 4,
     "metadata": {},
     "output_type": "execute_result"
    }
   ],
   "source": [
    "train_df.head()"
   ]
  },
  {
   "cell_type": "code",
   "execution_count": 5,
   "id": "93a24b2b",
   "metadata": {},
   "outputs": [
    {
     "name": "stderr",
     "output_type": "stream",
     "text": [
      "/Library/anaconda3/lib/python3.7/site-packages/IPython/core/interactiveshell.py:3444: DtypeWarning: Columns (0) have mixed types.Specify dtype option on import or set low_memory=False.\n",
      "  exec(code_obj, self.user_global_ns, self.user_ns)\n"
     ]
    }
   ],
   "source": [
    "#Reading the test data from test.csv\n",
    "test_df=pd.read_csv('test.csv')"
   ]
  },
  {
   "cell_type": "code",
   "execution_count": 6,
   "id": "1b1c49f4",
   "metadata": {},
   "outputs": [
    {
     "data": {
      "text/html": [
       "<div>\n",
       "<style scoped>\n",
       "    .dataframe tbody tr th:only-of-type {\n",
       "        vertical-align: middle;\n",
       "    }\n",
       "\n",
       "    .dataframe tbody tr th {\n",
       "        vertical-align: top;\n",
       "    }\n",
       "\n",
       "    .dataframe thead th {\n",
       "        text-align: right;\n",
       "    }\n",
       "</style>\n",
       "<table border=\"1\" class=\"dataframe\">\n",
       "  <thead>\n",
       "    <tr style=\"text-align: right;\">\n",
       "      <th></th>\n",
       "      <th>test_id</th>\n",
       "      <th>question1</th>\n",
       "      <th>question2</th>\n",
       "    </tr>\n",
       "  </thead>\n",
       "  <tbody>\n",
       "    <tr>\n",
       "      <th>0</th>\n",
       "      <td>0</td>\n",
       "      <td>How does the Surface Pro himself 4 compare wit...</td>\n",
       "      <td>Why did Microsoft choose core m3 and not core ...</td>\n",
       "    </tr>\n",
       "    <tr>\n",
       "      <th>1</th>\n",
       "      <td>1</td>\n",
       "      <td>Should I have a hair transplant at age 24? How...</td>\n",
       "      <td>How much cost does hair transplant require?</td>\n",
       "    </tr>\n",
       "    <tr>\n",
       "      <th>2</th>\n",
       "      <td>2</td>\n",
       "      <td>What but is the best way to send money from Ch...</td>\n",
       "      <td>What you send money to China?</td>\n",
       "    </tr>\n",
       "    <tr>\n",
       "      <th>3</th>\n",
       "      <td>3</td>\n",
       "      <td>Which food not emulsifiers?</td>\n",
       "      <td>What foods fibre?</td>\n",
       "    </tr>\n",
       "    <tr>\n",
       "      <th>4</th>\n",
       "      <td>4</td>\n",
       "      <td>How \"aberystwyth\" start reading?</td>\n",
       "      <td>How their can I start reading?</td>\n",
       "    </tr>\n",
       "  </tbody>\n",
       "</table>\n",
       "</div>"
      ],
      "text/plain": [
       "  test_id                                          question1  \\\n",
       "0       0  How does the Surface Pro himself 4 compare wit...   \n",
       "1       1  Should I have a hair transplant at age 24? How...   \n",
       "2       2  What but is the best way to send money from Ch...   \n",
       "3       3                        Which food not emulsifiers?   \n",
       "4       4                   How \"aberystwyth\" start reading?   \n",
       "\n",
       "                                           question2  \n",
       "0  Why did Microsoft choose core m3 and not core ...  \n",
       "1        How much cost does hair transplant require?  \n",
       "2                      What you send money to China?  \n",
       "3                                  What foods fibre?  \n",
       "4                     How their can I start reading?  "
      ]
     },
     "execution_count": 6,
     "metadata": {},
     "output_type": "execute_result"
    }
   ],
   "source": [
    "\n",
    "test_df.head()"
   ]
  },
  {
   "cell_type": "code",
   "execution_count": 7,
   "id": "ba7e1fd7",
   "metadata": {},
   "outputs": [
    {
     "data": {
      "text/html": [
       "<div>\n",
       "<style scoped>\n",
       "    .dataframe tbody tr th:only-of-type {\n",
       "        vertical-align: middle;\n",
       "    }\n",
       "\n",
       "    .dataframe tbody tr th {\n",
       "        vertical-align: top;\n",
       "    }\n",
       "\n",
       "    .dataframe thead th {\n",
       "        text-align: right;\n",
       "    }\n",
       "</style>\n",
       "<table border=\"1\" class=\"dataframe\">\n",
       "  <thead>\n",
       "    <tr style=\"text-align: right;\">\n",
       "      <th></th>\n",
       "      <th>question1</th>\n",
       "      <th>question2</th>\n",
       "      <th>is_duplicate</th>\n",
       "    </tr>\n",
       "  </thead>\n",
       "  <tbody>\n",
       "    <tr>\n",
       "      <th>0</th>\n",
       "      <td>What is the step by step guide to invest in sh...</td>\n",
       "      <td>What is the step by step guide to invest in sh...</td>\n",
       "      <td>0</td>\n",
       "    </tr>\n",
       "    <tr>\n",
       "      <th>1</th>\n",
       "      <td>What is the story of Kohinoor (Koh-i-Noor) Dia...</td>\n",
       "      <td>What would happen if the Indian government sto...</td>\n",
       "      <td>0</td>\n",
       "    </tr>\n",
       "    <tr>\n",
       "      <th>2</th>\n",
       "      <td>How can I increase the speed of my internet co...</td>\n",
       "      <td>How can Internet speed be increased by hacking...</td>\n",
       "      <td>0</td>\n",
       "    </tr>\n",
       "    <tr>\n",
       "      <th>3</th>\n",
       "      <td>Why am I mentally very lonely? How can I solve...</td>\n",
       "      <td>Find the remainder when [math]23^{24}[/math] i...</td>\n",
       "      <td>0</td>\n",
       "    </tr>\n",
       "    <tr>\n",
       "      <th>4</th>\n",
       "      <td>Which one dissolve in water quikly sugar, salt...</td>\n",
       "      <td>Which fish would survive in salt water?</td>\n",
       "      <td>0</td>\n",
       "    </tr>\n",
       "  </tbody>\n",
       "</table>\n",
       "</div>"
      ],
      "text/plain": [
       "                                           question1  \\\n",
       "0  What is the step by step guide to invest in sh...   \n",
       "1  What is the story of Kohinoor (Koh-i-Noor) Dia...   \n",
       "2  How can I increase the speed of my internet co...   \n",
       "3  Why am I mentally very lonely? How can I solve...   \n",
       "4  Which one dissolve in water quikly sugar, salt...   \n",
       "\n",
       "                                           question2  is_duplicate  \n",
       "0  What is the step by step guide to invest in sh...             0  \n",
       "1  What would happen if the Indian government sto...             0  \n",
       "2  How can Internet speed be increased by hacking...             0  \n",
       "3  Find the remainder when [math]23^{24}[/math] i...             0  \n",
       "4            Which fish would survive in salt water?             0  "
      ]
     },
     "execution_count": 7,
     "metadata": {},
     "output_type": "execute_result"
    }
   ],
   "source": [
    "#drop unnecessary columns like id,qid1,qid2 from train data\n",
    "train_df = train_df.drop(['id','qid1','qid2'],axis=1)\n",
    "#drop unnecessary columns like test_id from test data\n",
    "test_df = test_df.drop(['test_id'],axis=1)\n",
    "train_df.head()"
   ]
  },
  {
   "cell_type": "code",
   "execution_count": 8,
   "id": "8915a480",
   "metadata": {},
   "outputs": [
    {
     "data": {
      "text/plain": [
       "((149263, 3), (255027, 3))"
      ]
     },
     "execution_count": 8,
     "metadata": {},
     "output_type": "execute_result"
    }
   ],
   "source": [
    "#checking for the balance of train data with is_duplicate variable \n",
    "train_df[train_df['is_duplicate']==1].shape,train_df[train_df['is_duplicate']==0].shape"
   ]
  },
  {
   "cell_type": "code",
   "execution_count": 9,
   "id": "5fed888d",
   "metadata": {},
   "outputs": [],
   "source": [
    "#Considering full amount of is_duplicate=1 data as it is small than is_duplicate=0\n",
    "is_duplicate = train_df[train_df['is_duplicate']==1]\n",
    "#considering 149260 rows of is_duplicate =0 data to maintain the balance of train data\n",
    "not_duplicate = train_df[train_df['is_duplicate']==0].sample(149260)\n",
    "\n"
   ]
  },
  {
   "cell_type": "code",
   "execution_count": 10,
   "id": "a21b3602",
   "metadata": {},
   "outputs": [
    {
     "data": {
      "text/html": [
       "<div>\n",
       "<style scoped>\n",
       "    .dataframe tbody tr th:only-of-type {\n",
       "        vertical-align: middle;\n",
       "    }\n",
       "\n",
       "    .dataframe tbody tr th {\n",
       "        vertical-align: top;\n",
       "    }\n",
       "\n",
       "    .dataframe thead th {\n",
       "        text-align: right;\n",
       "    }\n",
       "</style>\n",
       "<table border=\"1\" class=\"dataframe\">\n",
       "  <thead>\n",
       "    <tr style=\"text-align: right;\">\n",
       "      <th></th>\n",
       "      <th>question1</th>\n",
       "      <th>question2</th>\n",
       "      <th>is_duplicate</th>\n",
       "    </tr>\n",
       "  </thead>\n",
       "  <tbody>\n",
       "    <tr>\n",
       "      <th>0</th>\n",
       "      <td>I get distracted and lose concentration easily...</td>\n",
       "      <td>I am not able to concentrate and get distracte...</td>\n",
       "      <td>1</td>\n",
       "    </tr>\n",
       "    <tr>\n",
       "      <th>1</th>\n",
       "      <td>What are some Interesting, unknown Facts about...</td>\n",
       "      <td>What are some of the little known facts about ...</td>\n",
       "      <td>1</td>\n",
       "    </tr>\n",
       "    <tr>\n",
       "      <th>2</th>\n",
       "      <td>Why were credits moved from the beginning of a...</td>\n",
       "      <td>When did movie credits shift to the end of the...</td>\n",
       "      <td>1</td>\n",
       "    </tr>\n",
       "    <tr>\n",
       "      <th>3</th>\n",
       "      <td>Why do people ask questions on Quora that can ...</td>\n",
       "      <td>Why do so many people ask questions on Quora.c...</td>\n",
       "      <td>1</td>\n",
       "    </tr>\n",
       "    <tr>\n",
       "      <th>4</th>\n",
       "      <td>Why was \"The Big Comfy Couch\" canceled?</td>\n",
       "      <td>Why was The Secret Circle canceled?</td>\n",
       "      <td>0</td>\n",
       "    </tr>\n",
       "    <tr>\n",
       "      <th>...</th>\n",
       "      <td>...</td>\n",
       "      <td>...</td>\n",
       "      <td>...</td>\n",
       "    </tr>\n",
       "    <tr>\n",
       "      <th>298518</th>\n",
       "      <td>I am in love with a codependent who has gone b...</td>\n",
       "      <td>I am in a relationship with my manager who is ...</td>\n",
       "      <td>0</td>\n",
       "    </tr>\n",
       "    <tr>\n",
       "      <th>298519</th>\n",
       "      <td>Why do I feel lack of energy after masturbation?</td>\n",
       "      <td>Why do I feel so weak after masturbation?</td>\n",
       "      <td>1</td>\n",
       "    </tr>\n",
       "    <tr>\n",
       "      <th>298520</th>\n",
       "      <td>Why doesn't an  iPhone get any viruses?</td>\n",
       "      <td>How do iPhones get viruses? How can we avoid t...</td>\n",
       "      <td>1</td>\n",
       "    </tr>\n",
       "    <tr>\n",
       "      <th>298521</th>\n",
       "      <td>Why Indian football team never qualified in Ol...</td>\n",
       "      <td>Why did Joginder Sharma not make it to the Ind...</td>\n",
       "      <td>0</td>\n",
       "    </tr>\n",
       "    <tr>\n",
       "      <th>298522</th>\n",
       "      <td>Is Virat Kohli really a better batsman than Sa...</td>\n",
       "      <td>Is Virat Kohli the new Sachin Tendulkar?</td>\n",
       "      <td>0</td>\n",
       "    </tr>\n",
       "  </tbody>\n",
       "</table>\n",
       "<p>298523 rows × 3 columns</p>\n",
       "</div>"
      ],
      "text/plain": [
       "                                                question1  \\\n",
       "0       I get distracted and lose concentration easily...   \n",
       "1       What are some Interesting, unknown Facts about...   \n",
       "2       Why were credits moved from the beginning of a...   \n",
       "3       Why do people ask questions on Quora that can ...   \n",
       "4                 Why was \"The Big Comfy Couch\" canceled?   \n",
       "...                                                   ...   \n",
       "298518  I am in love with a codependent who has gone b...   \n",
       "298519   Why do I feel lack of energy after masturbation?   \n",
       "298520            Why doesn't an  iPhone get any viruses?   \n",
       "298521  Why Indian football team never qualified in Ol...   \n",
       "298522  Is Virat Kohli really a better batsman than Sa...   \n",
       "\n",
       "                                                question2  is_duplicate  \n",
       "0       I am not able to concentrate and get distracte...             1  \n",
       "1       What are some of the little known facts about ...             1  \n",
       "2       When did movie credits shift to the end of the...             1  \n",
       "3       Why do so many people ask questions on Quora.c...             1  \n",
       "4                     Why was The Secret Circle canceled?             0  \n",
       "...                                                   ...           ...  \n",
       "298518  I am in a relationship with my manager who is ...             0  \n",
       "298519          Why do I feel so weak after masturbation?             1  \n",
       "298520  How do iPhones get viruses? How can we avoid t...             1  \n",
       "298521  Why did Joginder Sharma not make it to the Ind...             0  \n",
       "298522           Is Virat Kohli the new Sachin Tendulkar?             0  \n",
       "\n",
       "[298523 rows x 3 columns]"
      ]
     },
     "execution_count": 10,
     "metadata": {},
     "output_type": "execute_result"
    }
   ],
   "source": [
    "#concating the is_duplicate and not_duplicate to form training data \n",
    "train_df = pd.concat([is_duplicate,not_duplicate])\n",
    "train_df = train_df.sample(frac=1).reset_index(drop=True)\n",
    "train_df"
   ]
  },
  {
   "cell_type": "code",
   "execution_count": null,
   "id": "e3274956",
   "metadata": {},
   "outputs": [],
   "source": []
  },
  {
   "cell_type": "code",
   "execution_count": 11,
   "id": "e6b54034",
   "metadata": {},
   "outputs": [],
   "source": [
    "# Defining a POS function to categorize the text to a particular parts of speech\n",
    "def pos(tag):\n",
    "    if tag.startswith('N'):\n",
    "        return wordnet.NOUN\n",
    "    elif tag.startswith('V'):\n",
    "        return wordnet.VERB\n",
    "    elif tag.startswith('R'):\n",
    "        return wordnet.ADV\n",
    "    elif tag.startswith('J'):\n",
    "        return wordnet.ADJ\n",
    "    else:\n",
    "        return wordnet.NOUN\n",
    "\n",
    "lemmatizer = WordNetLemmatizer()#Used Wordnet Lemmatizer to group different inflicted forms of a word together."
   ]
  },
  {
   "cell_type": "code",
   "execution_count": 12,
   "id": "2194d82d",
   "metadata": {},
   "outputs": [],
   "source": [
    "# Stacking up all the stopwords in english language \n",
    "STOPWORDS = set(stopwords.words('english'))\n",
    "\n",
    "# Defining a clean text method\n",
    "def clean_text(text):\n",
    "    text = text.lower() #Converting the text to lower case.\n",
    "    text = re.compile(r'<[^>]+>').sub(' ', text) #Replacing HTML tags with blank space\n",
    "    text = re.compile(r'http[s]?://(?:[a-z]|[0-9]|[$-_@.&+]|[!*\\(\\),]|(?:%[0-9a-f][0-9a-f]))+').sub('', text)#URLS\n",
    "    text = re.compile(r'#(\\w+)').sub('', text)#Replacing Hash tags  with blank space\n",
    "    text = re.compile(r'@(\\w+)').sub('', text)#Replacing @ tags with blank space\n",
    "    text = re.compile(r\"[^a-z0-9\\-]\").sub(' ', text)#Replacing unwanted words with blank space \n",
    "    \n",
    "    \n",
    "    \n",
    "    for word in text.split():\n",
    "        if word not in STOPWORDS and len(word)>3:\n",
    "            text = \" \".join(lemmatizer.lemmatize(word.strip(), pos(pos_tag([word.strip()])[0][1])))\n",
    "            #filters and return the text after removing stopwords, lemmatization and pos tags\n",
    "    \n",
    "    return text"
   ]
  },
  {
   "cell_type": "code",
   "execution_count": 13,
   "id": "0b23e79e",
   "metadata": {},
   "outputs": [],
   "source": [
    "#Droping out null values\n",
    "train_df = train_df.dropna()"
   ]
  },
  {
   "cell_type": "code",
   "execution_count": 14,
   "id": "d9770a5d",
   "metadata": {},
   "outputs": [
    {
     "name": "stderr",
     "output_type": "stream",
     "text": [
      "/Library/anaconda3/lib/python3.7/site-packages/ipykernel_launcher.py:1: SettingWithCopyWarning: \n",
      "A value is trying to be set on a copy of a slice from a DataFrame.\n",
      "Try using .loc[row_indexer,col_indexer] = value instead\n",
      "\n",
      "See the caveats in the documentation: https://pandas.pydata.org/pandas-docs/stable/user_guide/indexing.html#returning-a-view-versus-a-copy\n",
      "  \"\"\"Entry point for launching an IPython kernel.\n"
     ]
    }
   ],
   "source": [
    "# applyiing the clean_text function to question1 in train data\n",
    "train_df['q1'] = train_df['question1'].apply(clean_text)\n"
   ]
  },
  {
   "cell_type": "code",
   "execution_count": 15,
   "id": "f1c28cb1",
   "metadata": {},
   "outputs": [],
   "source": [
    "import nltk"
   ]
  },
  {
   "cell_type": "code",
   "execution_count": null,
   "id": "a331d0bc",
   "metadata": {},
   "outputs": [
    {
     "name": "stdout",
     "output_type": "stream",
     "text": [
      "showing info https://raw.githubusercontent.com/nltk/nltk_data/gh-pages/index.xml\n"
     ]
    }
   ],
   "source": [
    "nltk.download()"
   ]
  },
  {
   "cell_type": "code",
   "execution_count": null,
   "id": "5dc6e295",
   "metadata": {},
   "outputs": [],
   "source": []
  },
  {
   "cell_type": "code",
   "execution_count": 15,
   "id": "81cd89f4",
   "metadata": {},
   "outputs": [],
   "source": [
    "#Droping out null values\n",
    "test_df = test_df.dropna()"
   ]
  },
  {
   "cell_type": "code",
   "execution_count": 16,
   "id": "94a69930",
   "metadata": {},
   "outputs": [
    {
     "name": "stderr",
     "output_type": "stream",
     "text": [
      "/Library/anaconda3/lib/python3.7/site-packages/ipykernel_launcher.py:1: SettingWithCopyWarning: \n",
      "A value is trying to be set on a copy of a slice from a DataFrame.\n",
      "Try using .loc[row_indexer,col_indexer] = value instead\n",
      "\n",
      "See the caveats in the documentation: https://pandas.pydata.org/pandas-docs/stable/user_guide/indexing.html#returning-a-view-versus-a-copy\n",
      "  \"\"\"Entry point for launching an IPython kernel.\n"
     ]
    }
   ],
   "source": [
    "# applyiing the clean_text function to question2 in train data \n",
    "train_df['q2'] = train_df['question2'].apply(clean_text)"
   ]
  },
  {
   "cell_type": "code",
   "execution_count": null,
   "id": "0547d841",
   "metadata": {},
   "outputs": [],
   "source": []
  },
  {
   "cell_type": "code",
   "execution_count": 17,
   "id": "941a35fc",
   "metadata": {},
   "outputs": [
    {
     "data": {
      "text/plain": [
       "0         distract lose concentration easily back track ...\n",
       "1                     interest unknown fact partition india\n",
       "2                             credit move begin movie movie\n",
       "3                people question quora easily answer google\n",
       "4                                        comfy couch cancel\n",
       "                                ...                        \n",
       "298518    love codependent go back narcissistic ex-wife ...\n",
       "298519                        feel lack energy masturbation\n",
       "298520                                         iphone virus\n",
       "298521    indian football team never qualify olympics we...\n",
       "298522    virat kohli really well batsman sachin tendulk...\n",
       "Name: q1, Length: 298521, dtype: object"
      ]
     },
     "execution_count": 17,
     "metadata": {},
     "output_type": "execute_result"
    }
   ],
   "source": [
    "train_df['q1']"
   ]
  },
  {
   "cell_type": "code",
   "execution_count": 18,
   "id": "1e06bd33",
   "metadata": {},
   "outputs": [],
   "source": [
    "#calling Tokenizer \n",
    "tokenizer = Tokenizer(num_words = 200000)\n",
    "#Updates internal vocabulary based on list of texts\n",
    "tokenizer.fit_on_texts(list(train_df['q1'].values.astype(str))+list(train_df['q2'].values.astype(str)))\n",
    "\n",
    "#Transforms each text in question1 texts in training data to a sequence of integers and pads each sequence to attain a max_len of 30\n",
    "X_train_q1 = tokenizer.texts_to_sequences(train_df['q1'].values.astype(str))\n",
    "X_train_q1 = pad_sequences(X_train_q1, maxlen = 30, padding = 'post')\n",
    "#Transforms each text in question2 texts in training data to a sequence of integers and pads each sequence to attain a max_len of 30\n",
    "X_train_q2 = tokenizer.texts_to_sequences(train_df['q2'].values.astype(str))\n",
    "X_train_q2 = pad_sequences(X_train_q2, maxlen = 30, padding = 'post')"
   ]
  },
  {
   "cell_type": "code",
   "execution_count": 19,
   "id": "e7c8bc36",
   "metadata": {},
   "outputs": [
    {
     "data": {
      "text/html": [
       "<div>\n",
       "<style scoped>\n",
       "    .dataframe tbody tr th:only-of-type {\n",
       "        vertical-align: middle;\n",
       "    }\n",
       "\n",
       "    .dataframe tbody tr th {\n",
       "        vertical-align: top;\n",
       "    }\n",
       "\n",
       "    .dataframe thead th {\n",
       "        text-align: right;\n",
       "    }\n",
       "</style>\n",
       "<table border=\"1\" class=\"dataframe\">\n",
       "  <thead>\n",
       "    <tr style=\"text-align: right;\">\n",
       "      <th></th>\n",
       "      <th>question1</th>\n",
       "      <th>question2</th>\n",
       "      <th>q1</th>\n",
       "      <th>q2</th>\n",
       "    </tr>\n",
       "  </thead>\n",
       "  <tbody>\n",
       "    <tr>\n",
       "      <th>0</th>\n",
       "      <td>How does the Surface Pro himself 4 compare wit...</td>\n",
       "      <td>Why did Microsoft choose core m3 and not core ...</td>\n",
       "      <td>surface compare ipad</td>\n",
       "      <td>microsoft choose core core home surface</td>\n",
       "    </tr>\n",
       "    <tr>\n",
       "      <th>1</th>\n",
       "      <td>Should I have a hair transplant at age 24? How...</td>\n",
       "      <td>How much cost does hair transplant require?</td>\n",
       "      <td>hair transplant much would cost</td>\n",
       "      <td>much cost hair transplant require</td>\n",
       "    </tr>\n",
       "    <tr>\n",
       "      <th>2</th>\n",
       "      <td>What but is the best way to send money from Ch...</td>\n",
       "      <td>What you send money to China?</td>\n",
       "      <td>best send money china</td>\n",
       "      <td>send money china</td>\n",
       "    </tr>\n",
       "    <tr>\n",
       "      <th>3</th>\n",
       "      <td>Which food not emulsifiers?</td>\n",
       "      <td>What foods fibre?</td>\n",
       "      <td>food emulsifier</td>\n",
       "      <td>food fibre</td>\n",
       "    </tr>\n",
       "    <tr>\n",
       "      <th>4</th>\n",
       "      <td>How \"aberystwyth\" start reading?</td>\n",
       "      <td>How their can I start reading?</td>\n",
       "      <td>aberystwyth start reading</td>\n",
       "      <td>start reading</td>\n",
       "    </tr>\n",
       "  </tbody>\n",
       "</table>\n",
       "</div>"
      ],
      "text/plain": [
       "                                           question1  \\\n",
       "0  How does the Surface Pro himself 4 compare wit...   \n",
       "1  Should I have a hair transplant at age 24? How...   \n",
       "2  What but is the best way to send money from Ch...   \n",
       "3                        Which food not emulsifiers?   \n",
       "4                   How \"aberystwyth\" start reading?   \n",
       "\n",
       "                                           question2  \\\n",
       "0  Why did Microsoft choose core m3 and not core ...   \n",
       "1        How much cost does hair transplant require?   \n",
       "2                      What you send money to China?   \n",
       "3                                  What foods fibre?   \n",
       "4                     How their can I start reading?   \n",
       "\n",
       "                                q1                                       q2  \n",
       "0             surface compare ipad  microsoft choose core core home surface  \n",
       "1  hair transplant much would cost        much cost hair transplant require  \n",
       "2            best send money china                         send money china  \n",
       "3                  food emulsifier                               food fibre  \n",
       "4        aberystwyth start reading                            start reading  "
      ]
     },
     "execution_count": 19,
     "metadata": {},
     "output_type": "execute_result"
    }
   ],
   "source": [
    "# applyiing the clean_text function to question1 in test data \n",
    "test_df['q1'] = test_df['question1'].apply(clean_text)\n",
    "# applyiing the clean_text function to question2 in test data \n",
    "test_df['q2'] = test_df['question2'].apply(clean_text)\n",
    "test_df.head()"
   ]
  },
  {
   "cell_type": "code",
   "execution_count": 20,
   "id": "1f8ad923",
   "metadata": {},
   "outputs": [],
   "source": [
    "#Transforms each text in question1 texts in test data to a sequence of integers and pads each sequence to attain a max_len of 30\n",
    "X_test_q1 = tokenizer.texts_to_sequences(test_df['q1'].ravel())\n",
    "X_test_q1 = pad_sequences(X_test_q1,maxlen = 30, padding='post')\n",
    "#Transforms each text in question2 texts in test data to a sequence of integers and pads each sequence to attain a max_len of 30\n",
    "X_test_q2 = tokenizer.texts_to_sequences(test_df['q2'].astype(str).ravel())\n",
    "X_test_q2 = pad_sequences(X_test_q2, maxlen = 30, padding='post')"
   ]
  },
  {
   "cell_type": "code",
   "execution_count": 21,
   "id": "062008a5",
   "metadata": {},
   "outputs": [
    {
     "name": "stderr",
     "output_type": "stream",
     "text": [
      "400000it [00:16, 23704.51it/s]"
     ]
    },
    {
     "name": "stdout",
     "output_type": "stream",
     "text": [
      "Found 400000 word vectors.\n"
     ]
    },
    {
     "name": "stderr",
     "output_type": "stream",
     "text": [
      "\n"
     ]
    }
   ],
   "source": [
    "e_index = {}\n",
    "#Loading glove file with 200 dimesions\n",
    "glovefile = open('glove.6B.200d.txt','r',encoding='utf-8')\n",
    "for line in tqdm(glovefile):\n",
    "    values = line.split(\" \")\n",
    "    word = values[0]\n",
    "    coefs = np.asarray(values[1:], dtype='float32')\n",
    "# finding number of word vectors\n",
    "    e_index[word] = coefs\n",
    "glovefile.close()\n",
    "\n",
    "print('Found %s word vectors.' % len(embeddings_index))"
   ]
  },
  {
   "cell_type": "code",
   "execution_count": 22,
   "id": "f51d0b17",
   "metadata": {},
   "outputs": [
    {
     "name": "stderr",
     "output_type": "stream",
     "text": [
      "100%|█████████████████████████████████| 55298/55298 [00:00<00:00, 571762.55it/s]\n"
     ]
    }
   ],
   "source": [
    "#Initializing  embedding matrix \n",
    "e_matrix = np.zeros((len(tokenizer.word_index)+1, 200))\n",
    "#Creating embedding matrix\n",
    "for words, index in tqdm(tokenizer.word_index.items()):\n",
    "    #loading word vectors into embedding vector \n",
    "    e_vector = e_index.get(word)\n",
    "    if e_vector is not None:\n",
    "        e_matrix[index] = e_vector"
   ]
  },
  {
   "cell_type": "code",
   "execution_count": 23,
   "id": "9b0529c0",
   "metadata": {},
   "outputs": [],
   "source": [
    "y = train_df['is_duplicate']"
   ]
  },
  {
   "cell_type": "code",
   "execution_count": 24,
   "id": "b19f6b4e",
   "metadata": {},
   "outputs": [
    {
     "name": "stdout",
     "output_type": "stream",
     "text": [
      "(238816, 30) (238816, 30) (238816,)\n",
      "(59705, 30) (59705, 30) (59705,)\n"
     ]
    }
   ],
   "source": [
    "#splitting the data\n",
    "X_train_q1,X_valid_q1, X_train_q2, X_valid_q2, y_train, y_valid = train_test_split(X_train_q1, X_train_q2, y, test_size=0.20, random_state=12)\n",
    "print(X_train_q1.shape, X_train_q2.shape, y_train.shape)\n",
    "print(X_valid_q1.shape, X_valid_q2.shape, y_valid.shape)"
   ]
  },
  {
   "cell_type": "code",
   "execution_count": 25,
   "id": "62ce728c",
   "metadata": {},
   "outputs": [],
   "source": [
    "#converting data to numpy array\n",
    "X_train_q1 = np.array(X_train_q1)\n",
    "X_train_q2 = np.array(X_train_q2)\n",
    "X_valid_q1 = np.array(X_valid_q1)\n",
    "X_valid_q2 = np.array(X_valid_q2)\n",
    "y_train = np.array(y_train)\n",
    "y_valid = np.array(y_valid)"
   ]
  },
  {
   "cell_type": "code",
   "execution_count": 26,
   "id": "8a4283e7",
   "metadata": {},
   "outputs": [],
   "source": [
    "vocab_size = len(tokenizer.word_index) + 1"
   ]
  },
  {
   "cell_type": "code",
   "execution_count": 63,
   "id": "ef54300e",
   "metadata": {},
   "outputs": [
    {
     "name": "stdout",
     "output_type": "stream",
     "text": [
      "Requirement already satisfied: numpy==1.19.5 in /Library/anaconda3/lib/python3.7/site-packages (1.19.5)\n",
      "Note: you may need to restart the kernel to use updated packages.\n"
     ]
    }
   ],
   "source": [
    "pip install numpy==1.19.5"
   ]
  },
  {
   "cell_type": "code",
   "execution_count": 27,
   "id": "d94103a0",
   "metadata": {},
   "outputs": [],
   "source": [
    "#defining training and testing and validation data\n",
    "X_train = [X_train_q1,X_train_q2]\n",
    "X_val = [X_valid_q1,X_valid_q2]\n",
    "X_test = [X_test_q1,X_test_q2]"
   ]
  },
  {
   "cell_type": "code",
   "execution_count": 28,
   "id": "9a9d103a",
   "metadata": {},
   "outputs": [],
   "source": [
    "#defining input shape to feed into embedding layer\n",
    "input_q1 = Input(shape = X_train[0].shape[1])\n",
    "input_q2 = Input(shape = X_train[0].shape[1])"
   ]
  },
  {
   "cell_type": "code",
   "execution_count": 29,
   "id": "ed1832c2",
   "metadata": {},
   "outputs": [],
   "source": [
    "word_index = tokenizer.word_index\n",
    "nb_words = len(word_index)+1\n",
    "DIM=200"
   ]
  },
  {
   "cell_type": "code",
   "execution_count": 30,
   "id": "ddcc4c85",
   "metadata": {},
   "outputs": [
    {
     "name": "stderr",
     "output_type": "stream",
     "text": [
      "2022-04-17 16:59:06.492155: I tensorflow/core/platform/cpu_feature_guard.cc:145] This TensorFlow binary is optimized with Intel(R) MKL-DNN to use the following CPU instructions in performance critical operations:  SSE4.1 SSE4.2\n",
      "To enable them in non-MKL-DNN operations, rebuild TensorFlow with the appropriate compiler flags.\n",
      "2022-04-17 16:59:06.494500: I tensorflow/core/common_runtime/process_util.cc:115] Creating new thread pool with default inter op setting: 8. Tune using inter_op_parallelism_threads for best performance.\n"
     ]
    },
    {
     "name": "stdout",
     "output_type": "stream",
     "text": [
      "Model: \"model\"\n",
      "__________________________________________________________________________________________________\n",
      "Layer (type)                    Output Shape         Param #     Connected to                     \n",
      "==================================================================================================\n",
      "input_1 (InputLayer)            [(None, 30)]         0                                            \n",
      "__________________________________________________________________________________________________\n",
      "input_2 (InputLayer)            [(None, 30)]         0                                            \n",
      "__________________________________________________________________________________________________\n",
      "embedding (Embedding)           (None, 30, 200)      11059800    input_1[0][0]                    \n",
      "                                                                 input_2[0][0]                    \n",
      "__________________________________________________________________________________________________\n",
      "bidirectional (Bidirectional)   (None, 128)          135680      embedding[0][0]                  \n",
      "                                                                 embedding[1][0]                  \n",
      "__________________________________________________________________________________________________\n",
      "concatenate (Concatenate)       (None, 256)          0           bidirectional[0][0]              \n",
      "                                                                 bidirectional[1][0]              \n",
      "__________________________________________________________________________________________________\n",
      "dense (Dense)                   (None, 64)           16448       concatenate[0][0]                \n",
      "__________________________________________________________________________________________________\n",
      "dense_1 (Dense)                 (None, 1)            65          dense[0][0]                      \n",
      "==================================================================================================\n",
      "Total params: 11,211,993\n",
      "Trainable params: 152,193\n",
      "Non-trainable params: 11,059,800\n",
      "__________________________________________________________________________________________________\n"
     ]
    }
   ],
   "source": [
    "#creating the embedding layer \n",
    "embedding_layer = Embedding(nb_words,\n",
    "                            DIM,\n",
    "                            input_length = X_train[0].shape[1],\n",
    "                            weights = [e_matrix],\n",
    "                            trainable=False)\n",
    "# Embedded sequences of input_q1 and input_q2\n",
    "embedded_sequences_q1 = embedding_layer(input_q1)\n",
    "embedded_sequences_q2 = embedding_layer(input_q2)\n",
    "# Defining the biderctional LSTM layer\n",
    "bilstm_layer = Bidirectional(LSTM(64, return_sequences=False))\n",
    "# Defining the BiLSTM layers for embedded sequence1 and embedded sequence2\n",
    "x1 = bilstm_layer(embedded_sequences_q1)\n",
    "x2 = bilstm_layer(embedded_sequences_q2)\n",
    "# Calculating the distance betwwen the question vecyors\n",
    "distance = layers.Concatenate()([x1, x2])\n",
    "\n",
    "x = Dense(64, activation=\"relu\")(distance)\n",
    "preds = Dense(1, activation=\"sigmoid\")(x)\n",
    "# Defining and building the final model\n",
    "model = Model(inputs=[input_q1, input_q2], outputs=preds)\n",
    "model.compile(loss=\"binary_crossentropy\",\n",
    "              optimizer=\"adam\",\n",
    "              metrics=[\"accuracy\"])\n",
    "\n",
    "\n",
    "\n",
    "model.summary()\n",
    "\n"
   ]
  },
  {
   "cell_type": "code",
   "execution_count": null,
   "id": "8535765f",
   "metadata": {},
   "outputs": [],
   "source": []
  },
  {
   "cell_type": "code",
   "execution_count": 41,
   "id": "b1c7740e",
   "metadata": {},
   "outputs": [
    {
     "name": "stdout",
     "output_type": "stream",
     "text": [
      "Train on 238816 samples, validate on 59705 samples\n",
      "Epoch 1/10\n",
      "238816/238816 [==============================] - 363s 2ms/sample - loss: 0.6538 - accuracy: 0.6027 - val_loss: 0.6529 - val_accuracy: 0.6045\n",
      "Epoch 2/10\n",
      "238816/238816 [==============================] - 386s 2ms/sample - loss: 0.6539 - accuracy: 0.6026 - val_loss: 0.6526 - val_accuracy: 0.6045\n",
      "Epoch 3/10\n",
      "238816/238816 [==============================] - 404s 2ms/sample - loss: 0.6539 - accuracy: 0.6029 - val_loss: 0.6529 - val_accuracy: 0.6050\n",
      "Epoch 4/10\n",
      "238816/238816 [==============================] - 374s 2ms/sample - loss: 0.6538 - accuracy: 0.6027 - val_loss: 0.6525 - val_accuracy: 0.6050\n",
      "Epoch 5/10\n",
      "238816/238816 [==============================] - 446s 2ms/sample - loss: 0.6538 - accuracy: 0.6025 - val_loss: 0.6526 - val_accuracy: 0.6045\n",
      "Epoch 6/10\n",
      "238816/238816 [==============================] - 468s 2ms/sample - loss: 0.6537 - accuracy: 0.6024 - val_loss: 0.6527 - val_accuracy: 0.6045\n",
      "Epoch 7/10\n",
      "238816/238816 [==============================] - 467s 2ms/sample - loss: 0.6538 - accuracy: 0.6029 - val_loss: 0.6520 - val_accuracy: 0.6050\n",
      "Epoch 8/10\n",
      "238816/238816 [==============================] - 340s 1ms/sample - loss: 0.6539 - accuracy: 0.6026 - val_loss: 0.6530 - val_accuracy: 0.6038\n",
      "Epoch 9/10\n",
      "238816/238816 [==============================] - 395s 2ms/sample - loss: 0.6538 - accuracy: 0.6025 - val_loss: 0.6522 - val_accuracy: 0.6053\n",
      "Epoch 10/10\n",
      "238816/238816 [==============================] - 394s 2ms/sample - loss: 0.6539 - accuracy: 0.6025 - val_loss: 0.6523 - val_accuracy: 0.6050\n"
     ]
    }
   ],
   "source": [
    "# Training the model\n",
    "\n",
    "history = model.fit(\n",
    "    X_train, y_train,\n",
    "    validation_data=(X_val, y_valid),\n",
    "    batch_size=2000, \n",
    "    epochs=10,\n",
    "    \n",
    ")\n"
   ]
  },
  {
   "cell_type": "code",
   "execution_count": null,
   "id": "7e122106",
   "metadata": {},
   "outputs": [],
   "source": [
    "\n"
   ]
  },
  {
   "cell_type": "code",
   "execution_count": 43,
   "id": "eb7bd017",
   "metadata": {},
   "outputs": [
    {
     "data": {
      "image/png": "[encoded data removed]",
      "text/plain": [
       "<Figure size 432x288 with 1 Axes>"
      ]
     },
     "metadata": {
      "needs_background": "light"
     },
     "output_type": "display_data"
    },
    {
     "data": {
      "image/png": "[encoded data removed]",
      "text/plain": [
       "<Figure size 432x288 with 1 Axes>"
      ]
     },
     "metadata": {
      "needs_background": "light"
     },
     "output_type": "display_data"
    },
    {
     "name": "stdout",
     "output_type": "stream",
     "text": [
      "[0.60272765, 0.60261035, 0.60289514, 0.60271925, 0.6025057, 0.60242194, 0.602937, 0.6025685, 0.60246384, 0.6024806]\n"
     ]
    }
   ],
   "source": [
    "# obtaining  the  accuracy and loss for training \n",
    "accuracy = history.history[\"accuracy\"]\n",
    "loss = history.history[\"loss\"]\n",
    "# obtaining  the  accuracy and loss for validation\n",
    "val_accuracy = history.history[\"val_accuracy\"]\n",
    "val_loss = history.history[\"val_loss\"]\n",
    "\n",
    "#plotting the accuracy for training and validation\n",
    "plt.plot(accuracy,'g',label='training accuracy')\n",
    "plt.plot(val_accuracy, 'r', label='validation accuracy')\n",
    "plt.legend()\n",
    "plt.show()\n",
    "\n",
    "#plotting the loss for training and validation\n",
    "plt.plot(loss,'g',label='training loss')\n",
    "plt.plot(val_loss, 'r', label='validation loss')\n",
    "plt.legend()\n",
    "plt.show()"
   ]
  },
  {
   "cell_type": "code",
   "execution_count": null,
   "id": "0cc8a2cb",
   "metadata": {},
   "outputs": [],
   "source": []
  },
  {
   "cell_type": "code",
   "execution_count": 50,
   "id": "5af9035a",
   "metadata": {},
   "outputs": [],
   "source": [
    "model.save('modelmals.h5')"
   ]
  },
  {
   "cell_type": "code",
   "execution_count": null,
   "id": "86e30ea7",
   "metadata": {},
   "outputs": [],
   "source": []
  },
  {
   "cell_type": "code",
   "execution_count": null,
   "id": "e31d5b57",
   "metadata": {},
   "outputs": [],
   "source": []
  }
 ],
 "metadata": {
  "kernelspec": {
   "display_name": "Python 3 (ipykernel)",
   "language": "python",
   "name": "python3"
  },
  "language_info": {
   "codemirror_mode": {
    "name": "ipython",
    "version": 3
   },
   "file_extension": ".py",
   "mimetype": "text/x-python",
   "name": "python",
   "nbconvert_exporter": "python",
   "pygments_lexer": "ipython3",
   "version": "3.7.10"
  }
 },
 "nbformat": 4,
 "nbformat_minor": 5
}
