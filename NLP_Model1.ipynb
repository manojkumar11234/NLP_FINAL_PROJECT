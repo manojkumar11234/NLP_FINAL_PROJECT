{
 "cells": [
  {
   "cell_type": "code",
   "execution_count": 2,
   "id": "a8f620a0",
   "metadata": {},
   "outputs": [
    {
     "name": "stderr",
     "output_type": "stream",
     "text": [
      "Using TensorFlow backend.\n"
     ]
    }
   ],
   "source": [
    "#importing numpy and pandas libraries for data operations and data loading\n",
    "import numpy as np \n",
    "import pandas as pd \n",
    "#importing nltk and tensorflow preprosessing libraries for data processing and feature engineering\n",
    "from nltk.stem.wordnet import WordNetLemmatizer\n",
    "from nltk import pos_tag\n",
    "from nltk.corpus import wordnet\n",
    "from nltk.corpus import stopwords\n",
    "from nltk.stem.wordnet import WordNetLemmatizer\n",
    "from tensorflow.keras.preprocessing.text import Tokenizer\n",
    "from tensorflow.keras.preprocessing.sequence import pad_sequences\n",
    "#importing keras and tensorflow libraries for word embeddings and model building\n",
    "import tensorflow as tf\n",
    "from tensorflow.keras.models import Sequential\n",
    "from tensorflow.keras.callbacks import EarlyStopping\n",
    "from keras.callbacks import ModelCheckpoint, ReduceLROnPlateau\n",
    "from keras.layers.normalization import BatchNormalization\n",
    "from tensorflow.keras.preprocessing.text import Tokenizer\n",
    "from tensorflow.keras.layers import LSTM, Dense, Bidirectional\n",
    "from tensorflow.keras.layers import Dropout, SpatialDropout1D, TimeDistributed,Flatten, GlobalMaxPool1D\n",
    "from tensorflow.keras.layers import Embedding\n",
    "from tensorflow.keras.layers import multiply\n",
    "import seaborn as sns\n",
    "import matplotlib.pyplot as plt\n",
    "#importing libraries for splitting the data and for tracking the progress\n",
    "import re\n",
    "from tqdm import tqdm\n",
    "from sklearn.model_selection import train_test_split\n"
   ]
  },
  {
   "cell_type": "code",
   "execution_count": 2,
   "id": "03329a47",
   "metadata": {},
   "outputs": [
    {
     "name": "stdout",
     "output_type": "stream",
     "text": [
      "Requirement already satisfied: numpy==1.19.5 in /Library/anaconda3/lib/python3.7/site-packages (1.19.5)\n",
      "Note: you may need to restart the kernel to use updated packages.\n"
     ]
    }
   ],
   "source": [
    "#installing numpy 1.19.5 to balance with tensorflow\n",
    "pip install numpy==1.19.5"
   ]
  },
  {
   "cell_type": "code",
   "execution_count": 3,
   "id": "be71584d",
   "metadata": {},
   "outputs": [],
   "source": [
    "#Reading the training data from train.csv\n",
    "train_df=pd.read_csv('train.csv')\n"
   ]
  },
  {
   "cell_type": "code",
   "execution_count": 4,
   "id": "291ba855",
   "metadata": {},
   "outputs": [
    {
     "data": {
      "text/html": [
       "<div>\n",
       "<style scoped>\n",
       "    .dataframe tbody tr th:only-of-type {\n",
       "        vertical-align: middle;\n",
       "    }\n",
       "\n",
       "    .dataframe tbody tr th {\n",
       "        vertical-align: top;\n",
       "    }\n",
       "\n",
       "    .dataframe thead th {\n",
       "        text-align: right;\n",
       "    }\n",
       "</style>\n",
       "<table border=\"1\" class=\"dataframe\">\n",
       "  <thead>\n",
       "    <tr style=\"text-align: right;\">\n",
       "      <th></th>\n",
       "      <th>id</th>\n",
       "      <th>qid1</th>\n",
       "      <th>qid2</th>\n",
       "      <th>question1</th>\n",
       "      <th>question2</th>\n",
       "      <th>is_duplicate</th>\n",
       "    </tr>\n",
       "  </thead>\n",
       "  <tbody>\n",
       "    <tr>\n",
       "      <th>0</th>\n",
       "      <td>0</td>\n",
       "      <td>1</td>\n",
       "      <td>2</td>\n",
       "      <td>What is the step by step guide to invest in sh...</td>\n",
       "      <td>What is the step by step guide to invest in sh...</td>\n",
       "      <td>0</td>\n",
       "    </tr>\n",
       "    <tr>\n",
       "      <th>1</th>\n",
       "      <td>1</td>\n",
       "      <td>3</td>\n",
       "      <td>4</td>\n",
       "      <td>What is the story of Kohinoor (Koh-i-Noor) Dia...</td>\n",
       "      <td>What would happen if the Indian government sto...</td>\n",
       "      <td>0</td>\n",
       "    </tr>\n",
       "    <tr>\n",
       "      <th>2</th>\n",
       "      <td>2</td>\n",
       "      <td>5</td>\n",
       "      <td>6</td>\n",
       "      <td>How can I increase the speed of my internet co...</td>\n",
       "      <td>How can Internet speed be increased by hacking...</td>\n",
       "      <td>0</td>\n",
       "    </tr>\n",
       "    <tr>\n",
       "      <th>3</th>\n",
       "      <td>3</td>\n",
       "      <td>7</td>\n",
       "      <td>8</td>\n",
       "      <td>Why am I mentally very lonely? How can I solve...</td>\n",
       "      <td>Find the remainder when [math]23^{24}[/math] i...</td>\n",
       "      <td>0</td>\n",
       "    </tr>\n",
       "    <tr>\n",
       "      <th>4</th>\n",
       "      <td>4</td>\n",
       "      <td>9</td>\n",
       "      <td>10</td>\n",
       "      <td>Which one dissolve in water quikly sugar, salt...</td>\n",
       "      <td>Which fish would survive in salt water?</td>\n",
       "      <td>0</td>\n",
       "    </tr>\n",
       "  </tbody>\n",
       "</table>\n",
       "</div>"
      ],
      "text/plain": [
       "   id  qid1  qid2                                          question1  \\\n",
       "0   0     1     2  What is the step by step guide to invest in sh...   \n",
       "1   1     3     4  What is the story of Kohinoor (Koh-i-Noor) Dia...   \n",
       "2   2     5     6  How can I increase the speed of my internet co...   \n",
       "3   3     7     8  Why am I mentally very lonely? How can I solve...   \n",
       "4   4     9    10  Which one dissolve in water quikly sugar, salt...   \n",
       "\n",
       "                                           question2  is_duplicate  \n",
       "0  What is the step by step guide to invest in sh...             0  \n",
       "1  What would happen if the Indian government sto...             0  \n",
       "2  How can Internet speed be increased by hacking...             0  \n",
       "3  Find the remainder when [math]23^{24}[/math] i...             0  \n",
       "4            Which fish would survive in salt water?             0  "
      ]
     },
     "execution_count": 4,
     "metadata": {},
     "output_type": "execute_result"
    }
   ],
   "source": [
    "train_df.head()"
   ]
  },
  {
   "cell_type": "code",
   "execution_count": 4,
   "id": "93a24b2b",
   "metadata": {},
   "outputs": [
    {
     "name": "stderr",
     "output_type": "stream",
     "text": [
      "/Library/anaconda3/lib/python3.7/site-packages/IPython/core/interactiveshell.py:3444: DtypeWarning: Columns (0) have mixed types.Specify dtype option on import or set low_memory=False.\n",
      "  exec(code_obj, self.user_global_ns, self.user_ns)\n"
     ]
    }
   ],
   "source": [
    "#Reading the test data from test.csv\n",
    "test_df=pd.read_csv('test.csv')"
   ]
  },
  {
   "cell_type": "code",
   "execution_count": 6,
   "id": "1b1c49f4",
   "metadata": {},
   "outputs": [
    {
     "data": {
      "text/html": [
       "<div>\n",
       "<style scoped>\n",
       "    .dataframe tbody tr th:only-of-type {\n",
       "        vertical-align: middle;\n",
       "    }\n",
       "\n",
       "    .dataframe tbody tr th {\n",
       "        vertical-align: top;\n",
       "    }\n",
       "\n",
       "    .dataframe thead th {\n",
       "        text-align: right;\n",
       "    }\n",
       "</style>\n",
       "<table border=\"1\" class=\"dataframe\">\n",
       "  <thead>\n",
       "    <tr style=\"text-align: right;\">\n",
       "      <th></th>\n",
       "      <th>test_id</th>\n",
       "      <th>question1</th>\n",
       "      <th>question2</th>\n",
       "    </tr>\n",
       "  </thead>\n",
       "  <tbody>\n",
       "    <tr>\n",
       "      <th>0</th>\n",
       "      <td>0</td>\n",
       "      <td>How does the Surface Pro himself 4 compare wit...</td>\n",
       "      <td>Why did Microsoft choose core m3 and not core ...</td>\n",
       "    </tr>\n",
       "    <tr>\n",
       "      <th>1</th>\n",
       "      <td>1</td>\n",
       "      <td>Should I have a hair transplant at age 24? How...</td>\n",
       "      <td>How much cost does hair transplant require?</td>\n",
       "    </tr>\n",
       "    <tr>\n",
       "      <th>2</th>\n",
       "      <td>2</td>\n",
       "      <td>What but is the best way to send money from Ch...</td>\n",
       "      <td>What you send money to China?</td>\n",
       "    </tr>\n",
       "    <tr>\n",
       "      <th>3</th>\n",
       "      <td>3</td>\n",
       "      <td>Which food not emulsifiers?</td>\n",
       "      <td>What foods fibre?</td>\n",
       "    </tr>\n",
       "    <tr>\n",
       "      <th>4</th>\n",
       "      <td>4</td>\n",
       "      <td>How \"aberystwyth\" start reading?</td>\n",
       "      <td>How their can I start reading?</td>\n",
       "    </tr>\n",
       "  </tbody>\n",
       "</table>\n",
       "</div>"
      ],
      "text/plain": [
       "  test_id                                          question1  \\\n",
       "0       0  How does the Surface Pro himself 4 compare wit...   \n",
       "1       1  Should I have a hair transplant at age 24? How...   \n",
       "2       2  What but is the best way to send money from Ch...   \n",
       "3       3                        Which food not emulsifiers?   \n",
       "4       4                   How \"aberystwyth\" start reading?   \n",
       "\n",
       "                                           question2  \n",
       "0  Why did Microsoft choose core m3 and not core ...  \n",
       "1        How much cost does hair transplant require?  \n",
       "2                      What you send money to China?  \n",
       "3                                  What foods fibre?  \n",
       "4                     How their can I start reading?  "
      ]
     },
     "execution_count": 6,
     "metadata": {},
     "output_type": "execute_result"
    }
   ],
   "source": [
    "test_df.head()"
   ]
  },
  {
   "cell_type": "code",
   "execution_count": 5,
   "id": "ba7e1fd7",
   "metadata": {},
   "outputs": [
    {
     "data": {
      "text/html": [
       "<div>\n",
       "<style scoped>\n",
       "    .dataframe tbody tr th:only-of-type {\n",
       "        vertical-align: middle;\n",
       "    }\n",
       "\n",
       "    .dataframe tbody tr th {\n",
       "        vertical-align: top;\n",
       "    }\n",
       "\n",
       "    .dataframe thead th {\n",
       "        text-align: right;\n",
       "    }\n",
       "</style>\n",
       "<table border=\"1\" class=\"dataframe\">\n",
       "  <thead>\n",
       "    <tr style=\"text-align: right;\">\n",
       "      <th></th>\n",
       "      <th>question1</th>\n",
       "      <th>question2</th>\n",
       "      <th>is_duplicate</th>\n",
       "    </tr>\n",
       "  </thead>\n",
       "  <tbody>\n",
       "    <tr>\n",
       "      <th>0</th>\n",
       "      <td>What is the step by step guide to invest in sh...</td>\n",
       "      <td>What is the step by step guide to invest in sh...</td>\n",
       "      <td>0</td>\n",
       "    </tr>\n",
       "    <tr>\n",
       "      <th>1</th>\n",
       "      <td>What is the story of Kohinoor (Koh-i-Noor) Dia...</td>\n",
       "      <td>What would happen if the Indian government sto...</td>\n",
       "      <td>0</td>\n",
       "    </tr>\n",
       "    <tr>\n",
       "      <th>2</th>\n",
       "      <td>How can I increase the speed of my internet co...</td>\n",
       "      <td>How can Internet speed be increased by hacking...</td>\n",
       "      <td>0</td>\n",
       "    </tr>\n",
       "    <tr>\n",
       "      <th>3</th>\n",
       "      <td>Why am I mentally very lonely? How can I solve...</td>\n",
       "      <td>Find the remainder when [math]23^{24}[/math] i...</td>\n",
       "      <td>0</td>\n",
       "    </tr>\n",
       "    <tr>\n",
       "      <th>4</th>\n",
       "      <td>Which one dissolve in water quikly sugar, salt...</td>\n",
       "      <td>Which fish would survive in salt water?</td>\n",
       "      <td>0</td>\n",
       "    </tr>\n",
       "  </tbody>\n",
       "</table>\n",
       "</div>"
      ],
      "text/plain": [
       "                                           question1  \\\n",
       "0  What is the step by step guide to invest in sh...   \n",
       "1  What is the story of Kohinoor (Koh-i-Noor) Dia...   \n",
       "2  How can I increase the speed of my internet co...   \n",
       "3  Why am I mentally very lonely? How can I solve...   \n",
       "4  Which one dissolve in water quikly sugar, salt...   \n",
       "\n",
       "                                           question2  is_duplicate  \n",
       "0  What is the step by step guide to invest in sh...             0  \n",
       "1  What would happen if the Indian government sto...             0  \n",
       "2  How can Internet speed be increased by hacking...             0  \n",
       "3  Find the remainder when [math]23^{24}[/math] i...             0  \n",
       "4            Which fish would survive in salt water?             0  "
      ]
     },
     "execution_count": 5,
     "metadata": {},
     "output_type": "execute_result"
    }
   ],
   "source": [
    "#drop unnecessary columns like id,qid1,qid2 from train data\n",
    "train_df = train_df.drop(['id','qid1','qid2'],axis=1)\n",
    "#drop unnecessary columns like test_id from test data\n",
    "test_df = test_df.drop(['test_id'],axis=1)\n",
    "train_df.head()"
   ]
  },
  {
   "cell_type": "code",
   "execution_count": 8,
   "id": "8915a480",
   "metadata": {},
   "outputs": [
    {
     "data": {
      "text/plain": [
       "((149263, 3), (255027, 3))"
      ]
     },
     "execution_count": 8,
     "metadata": {},
     "output_type": "execute_result"
    }
   ],
   "source": [
    "#checking for the balance of train data with is_duplicate variable \n",
    "train_df[train_df['is_duplicate']==1].shape,train_df[train_df['is_duplicate']==0].shape"
   ]
  },
  {
   "cell_type": "code",
   "execution_count": 6,
   "id": "5fed888d",
   "metadata": {},
   "outputs": [],
   "source": [
    "#Considering full amount of is_duplicate=1 data as it is small than is_duplicate=0\n",
    "is_duplicate = train_df[train_df['is_duplicate']==1]\n",
    "#considering 149260 rows of is_duplicate =0 data to maintain the balance of train data\n",
    "not_duplicate = train_df[train_df['is_duplicate']==0].sample(149260)\n"
   ]
  },
  {
   "cell_type": "code",
   "execution_count": 7,
   "id": "a21b3602",
   "metadata": {},
   "outputs": [
    {
     "data": {
      "text/html": [
       "<div>\n",
       "<style scoped>\n",
       "    .dataframe tbody tr th:only-of-type {\n",
       "        vertical-align: middle;\n",
       "    }\n",
       "\n",
       "    .dataframe tbody tr th {\n",
       "        vertical-align: top;\n",
       "    }\n",
       "\n",
       "    .dataframe thead th {\n",
       "        text-align: right;\n",
       "    }\n",
       "</style>\n",
       "<table border=\"1\" class=\"dataframe\">\n",
       "  <thead>\n",
       "    <tr style=\"text-align: right;\">\n",
       "      <th></th>\n",
       "      <th>question1</th>\n",
       "      <th>question2</th>\n",
       "      <th>is_duplicate</th>\n",
       "    </tr>\n",
       "  </thead>\n",
       "  <tbody>\n",
       "    <tr>\n",
       "      <th>0</th>\n",
       "      <td>How do we stop terrorism permanently from root?</td>\n",
       "      <td>How can we stop terrorism at its roots, its Id...</td>\n",
       "      <td>1</td>\n",
       "    </tr>\n",
       "    <tr>\n",
       "      <th>1</th>\n",
       "      <td>What are the objectives of Modi Government in ...</td>\n",
       "      <td>Can you find me a ttt?</td>\n",
       "      <td>0</td>\n",
       "    </tr>\n",
       "    <tr>\n",
       "      <th>2</th>\n",
       "      <td>What's the definition of a data scientist?</td>\n",
       "      <td>What is a data scientist?</td>\n",
       "      <td>1</td>\n",
       "    </tr>\n",
       "    <tr>\n",
       "      <th>3</th>\n",
       "      <td>What is your favourite Harry Potter movie? Why?</td>\n",
       "      <td>Which is your favourite Harry Potter movie and...</td>\n",
       "      <td>1</td>\n",
       "    </tr>\n",
       "    <tr>\n",
       "      <th>4</th>\n",
       "      <td>How do I invest money wisely nowadays?</td>\n",
       "      <td>Where can I learn about how to invest money wi...</td>\n",
       "      <td>1</td>\n",
       "    </tr>\n",
       "    <tr>\n",
       "      <th>...</th>\n",
       "      <td>...</td>\n",
       "      <td>...</td>\n",
       "      <td>...</td>\n",
       "    </tr>\n",
       "    <tr>\n",
       "      <th>298518</th>\n",
       "      <td>Why does Tommy Lee Jones speak such great Span...</td>\n",
       "      <td>What all exams has Ayush Bansal cleared? He sa...</td>\n",
       "      <td>0</td>\n",
       "    </tr>\n",
       "    <tr>\n",
       "      <th>298519</th>\n",
       "      <td>How can you speak and learn fluent English lik...</td>\n",
       "      <td>How can I learn to speak English fluently?</td>\n",
       "      <td>1</td>\n",
       "    </tr>\n",
       "    <tr>\n",
       "      <th>298520</th>\n",
       "      <td>What are the differences between primary memor...</td>\n",
       "      <td>In a computer, what is the difference between ...</td>\n",
       "      <td>1</td>\n",
       "    </tr>\n",
       "    <tr>\n",
       "      <th>298521</th>\n",
       "      <td>How is duck sauce created?</td>\n",
       "      <td>How can you make duck sauce?</td>\n",
       "      <td>1</td>\n",
       "    </tr>\n",
       "    <tr>\n",
       "      <th>298522</th>\n",
       "      <td>How do I generate 4096 bit RSA key?</td>\n",
       "      <td>In RSA, public and private keys are normally o...</td>\n",
       "      <td>0</td>\n",
       "    </tr>\n",
       "  </tbody>\n",
       "</table>\n",
       "<p>298523 rows × 3 columns</p>\n",
       "</div>"
      ],
      "text/plain": [
       "                                                question1  \\\n",
       "0         How do we stop terrorism permanently from root?   \n",
       "1       What are the objectives of Modi Government in ...   \n",
       "2              What's the definition of a data scientist?   \n",
       "3         What is your favourite Harry Potter movie? Why?   \n",
       "4                  How do I invest money wisely nowadays?   \n",
       "...                                                   ...   \n",
       "298518  Why does Tommy Lee Jones speak such great Span...   \n",
       "298519  How can you speak and learn fluent English lik...   \n",
       "298520  What are the differences between primary memor...   \n",
       "298521                         How is duck sauce created?   \n",
       "298522                How do I generate 4096 bit RSA key?   \n",
       "\n",
       "                                                question2  is_duplicate  \n",
       "0       How can we stop terrorism at its roots, its Id...             1  \n",
       "1                                  Can you find me a ttt?             0  \n",
       "2                               What is a data scientist?             1  \n",
       "3       Which is your favourite Harry Potter movie and...             1  \n",
       "4       Where can I learn about how to invest money wi...             1  \n",
       "...                                                   ...           ...  \n",
       "298518  What all exams has Ayush Bansal cleared? He sa...             0  \n",
       "298519         How can I learn to speak English fluently?             1  \n",
       "298520  In a computer, what is the difference between ...             1  \n",
       "298521                       How can you make duck sauce?             1  \n",
       "298522  In RSA, public and private keys are normally o...             0  \n",
       "\n",
       "[298523 rows x 3 columns]"
      ]
     },
     "execution_count": 7,
     "metadata": {},
     "output_type": "execute_result"
    }
   ],
   "source": [
    "#concating the is_duplicate and not_duplicate to form training data \n",
    "train_df = pd.concat([is_duplicate,not_duplicate])\n",
    "train_df = train_df.sample(frac=1).reset_index(drop=True)\n",
    "train_df"
   ]
  },
  {
   "cell_type": "code",
   "execution_count": null,
   "id": "e3274956",
   "metadata": {},
   "outputs": [],
   "source": []
  },
  {
   "cell_type": "code",
   "execution_count": 12,
   "id": "e6b54034",
   "metadata": {},
   "outputs": [],
   "source": [
    "# Defining a POS function to categorize the text to a particular parts of speech\n",
    "def pos(tag):\n",
    "    if tag.startswith('N'):\n",
    "        return wordnet.NOUN\n",
    "    elif tag.startswith('V'):\n",
    "        return wordnet.VERB\n",
    "    elif tag.startswith('R'):\n",
    "        return wordnet.ADV\n",
    "    elif tag.startswith('J'):\n",
    "        return wordnet.ADJ\n",
    "    else:\n",
    "        return wordnet.NOUN\n",
    "\n",
    "lemmatizer = WordNetLemmatizer()#Used Wordnet Lemmatizer to group different inflicted forms of a word together."
   ]
  },
  {
   "cell_type": "code",
   "execution_count": 13,
   "id": "710ecbe7",
   "metadata": {},
   "outputs": [],
   "source": [
    "# Stacking up all the stopwords in english language \n",
    "STOPWORDS = set(stopwords.words('english'))\n",
    "\n",
    "# Defining a clean text method\n",
    "def clean_text(text):\n",
    "    text = text.lower() #Converting the text to lower case.\n",
    "    text = re.compile(r'<[^>]+>').sub(' ', text) #Replacing HTML tags with blank space\n",
    "    text = re.compile(r'http[s]?://(?:[a-z]|[0-9]|[$-_@.&+]|[!*\\(\\),]|(?:%[0-9a-f][0-9a-f]))+').sub('', text)#URLS\n",
    "    text = re.compile(r'#(\\w+)').sub('', text)#Replacing Hash tags  with blank space\n",
    "    text = re.compile(r'@(\\w+)').sub('', text)#Replacing @ tags with blank space\n",
    "    text = re.compile(r\"[^a-z0-9\\-]\").sub(' ', text)#Replacing unwanted words with blank space \n",
    "    \n",
    "    \n",
    "    \n",
    "    for word in text.split():\n",
    "        if word not in STOPWORDS and len(word)>3:\n",
    "            text = \" \".join(lemmatizer.lemmatize(word.strip(), pos(pos_tag([word.strip()])[0][1])))\n",
    "            #filters and return the text after removing stopwords, lemmatization and pos tags\n",
    "    \n",
    "    return text"
   ]
  },
  {
   "cell_type": "code",
   "execution_count": 15,
   "id": "cd0b279f",
   "metadata": {},
   "outputs": [],
   "source": [
    "#Droping out null values \n",
    "train_df = train_df.dropna()"
   ]
  },
  {
   "cell_type": "code",
   "execution_count": 16,
   "id": "d9770a5d",
   "metadata": {},
   "outputs": [
    {
     "name": "stderr",
     "output_type": "stream",
     "text": [
      "/Library/anaconda3/lib/python3.7/site-packages/ipykernel_launcher.py:1: SettingWithCopyWarning: \n",
      "A value is trying to be set on a copy of a slice from a DataFrame.\n",
      "Try using .loc[row_indexer,col_indexer] = value instead\n",
      "\n",
      "See the caveats in the documentation: https://pandas.pydata.org/pandas-docs/stable/user_guide/indexing.html#returning-a-view-versus-a-copy\n",
      "  \"\"\"Entry point for launching an IPython kernel.\n"
     ]
    }
   ],
   "source": [
    "# applyiing the clean_text function to question1 in train data \n",
    "train_df['q1'] = train_df['question1'].apply(clean_text)\n"
   ]
  },
  {
   "cell_type": "code",
   "execution_count": 17,
   "id": "f1c28cb1",
   "metadata": {},
   "outputs": [],
   "source": [
    "import nltk"
   ]
  },
  {
   "cell_type": "code",
   "execution_count": 18,
   "id": "a331d0bc",
   "metadata": {},
   "outputs": [
    {
     "name": "stdout",
     "output_type": "stream",
     "text": [
      "showing info https://raw.githubusercontent.com/nltk/nltk_data/gh-pages/index.xml\n"
     ]
    },
    {
     "data": {
      "text/plain": [
       "True"
      ]
     },
     "execution_count": 18,
     "metadata": {},
     "output_type": "execute_result"
    }
   ],
   "source": [
    "nltk.download()"
   ]
  },
  {
   "cell_type": "code",
   "execution_count": null,
   "id": "5dc6e295",
   "metadata": {},
   "outputs": [],
   "source": []
  },
  {
   "cell_type": "code",
   "execution_count": 19,
   "id": "81cd89f4",
   "metadata": {},
   "outputs": [],
   "source": [
    "#Droping out null values\n",
    "test_df = test_df.dropna()"
   ]
  },
  {
   "cell_type": "code",
   "execution_count": 20,
   "id": "94a69930",
   "metadata": {},
   "outputs": [
    {
     "name": "stderr",
     "output_type": "stream",
     "text": [
      "/Library/anaconda3/lib/python3.7/site-packages/ipykernel_launcher.py:1: SettingWithCopyWarning: \n",
      "A value is trying to be set on a copy of a slice from a DataFrame.\n",
      "Try using .loc[row_indexer,col_indexer] = value instead\n",
      "\n",
      "See the caveats in the documentation: https://pandas.pydata.org/pandas-docs/stable/user_guide/indexing.html#returning-a-view-versus-a-copy\n",
      "  \"\"\"Entry point for launching an IPython kernel.\n"
     ]
    }
   ],
   "source": [
    "# applyiing the clean_text function to question2 in train data \n",
    "train_df['q2'] = train_df['question2'].apply(clean_text)"
   ]
  },
  {
   "cell_type": "code",
   "execution_count": null,
   "id": "0547d841",
   "metadata": {},
   "outputs": [],
   "source": []
  },
  {
   "cell_type": "code",
   "execution_count": 22,
   "id": "941a35fc",
   "metadata": {},
   "outputs": [
    {
     "data": {
      "text/plain": [
       "0                     accord corrupt indian politician ever\n",
       "1                        delete quora primary email address\n",
       "2                             education system change india\n",
       "3                        different type job technical field\n",
       "4                            need digital marketing service\n",
       "                                ...                        \n",
       "298518                                      increase height\n",
       "298519                                 clear bank exam 12th\n",
       "298520    difference synchronous asynchronous data transfer\n",
       "298521                                 best traffic website\n",
       "298522                                                 feel\n",
       "Name: q1, Length: 298522, dtype: object"
      ]
     },
     "execution_count": 22,
     "metadata": {},
     "output_type": "execute_result"
    }
   ],
   "source": [
    "\n",
    "train_df['q1']"
   ]
  },
  {
   "cell_type": "code",
   "execution_count": 23,
   "id": "1e06bd33",
   "metadata": {},
   "outputs": [],
   "source": [
    "\n",
    "#calling Tokenizer \n",
    "tokenizer = Tokenizer(num_words = 200000)\n",
    "#Updates internal vocabulary based on list of texts\n",
    "tokenizer.fit_on_texts(list(train_df['q1'].values.astype(str))+list(train_df['q2'].values.astype(str)))\n",
    "\n",
    "#Transforms each text in question1 texts in training data to a sequence of integers and pads each sequence to attain a max_len of 30\n",
    "X_train_q1 = tokenizer.texts_to_sequences(train_df['q1'].values.astype(str))\n",
    "X_train_q1 = pad_sequences(X_train_q1, maxlen = 30, padding = 'post')\n",
    "#Transforms each text in question2 texts in training data to a sequence of integers and pads each sequence to attain a max_len of 30\n",
    "X_train_q2 = tokenizer.texts_to_sequences(train_df['q2'].values.astype(str))\n",
    "X_train_q2 = pad_sequences(X_train_q2, maxlen = 30, padding = 'post')"
   ]
  },
  {
   "cell_type": "code",
   "execution_count": 24,
   "id": "e7c8bc36",
   "metadata": {},
   "outputs": [
    {
     "data": {
      "text/html": [
       "<div>\n",
       "<style scoped>\n",
       "    .dataframe tbody tr th:only-of-type {\n",
       "        vertical-align: middle;\n",
       "    }\n",
       "\n",
       "    .dataframe tbody tr th {\n",
       "        vertical-align: top;\n",
       "    }\n",
       "\n",
       "    .dataframe thead th {\n",
       "        text-align: right;\n",
       "    }\n",
       "</style>\n",
       "<table border=\"1\" class=\"dataframe\">\n",
       "  <thead>\n",
       "    <tr style=\"text-align: right;\">\n",
       "      <th></th>\n",
       "      <th>question1</th>\n",
       "      <th>question2</th>\n",
       "      <th>q1</th>\n",
       "      <th>q2</th>\n",
       "    </tr>\n",
       "  </thead>\n",
       "  <tbody>\n",
       "    <tr>\n",
       "      <th>0</th>\n",
       "      <td>How does the Surface Pro himself 4 compare wit...</td>\n",
       "      <td>Why did Microsoft choose core m3 and not core ...</td>\n",
       "      <td>surface compare ipad</td>\n",
       "      <td>microsoft choose core core home surface</td>\n",
       "    </tr>\n",
       "    <tr>\n",
       "      <th>1</th>\n",
       "      <td>Should I have a hair transplant at age 24? How...</td>\n",
       "      <td>How much cost does hair transplant require?</td>\n",
       "      <td>hair transplant much would cost</td>\n",
       "      <td>much cost hair transplant require</td>\n",
       "    </tr>\n",
       "    <tr>\n",
       "      <th>2</th>\n",
       "      <td>What but is the best way to send money from Ch...</td>\n",
       "      <td>What you send money to China?</td>\n",
       "      <td>best send money china</td>\n",
       "      <td>send money china</td>\n",
       "    </tr>\n",
       "    <tr>\n",
       "      <th>3</th>\n",
       "      <td>Which food not emulsifiers?</td>\n",
       "      <td>What foods fibre?</td>\n",
       "      <td>food emulsifier</td>\n",
       "      <td>food fibre</td>\n",
       "    </tr>\n",
       "    <tr>\n",
       "      <th>4</th>\n",
       "      <td>How \"aberystwyth\" start reading?</td>\n",
       "      <td>How their can I start reading?</td>\n",
       "      <td>aberystwyth start reading</td>\n",
       "      <td>start reading</td>\n",
       "    </tr>\n",
       "  </tbody>\n",
       "</table>\n",
       "</div>"
      ],
      "text/plain": [
       "                                           question1  \\\n",
       "0  How does the Surface Pro himself 4 compare wit...   \n",
       "1  Should I have a hair transplant at age 24? How...   \n",
       "2  What but is the best way to send money from Ch...   \n",
       "3                        Which food not emulsifiers?   \n",
       "4                   How \"aberystwyth\" start reading?   \n",
       "\n",
       "                                           question2  \\\n",
       "0  Why did Microsoft choose core m3 and not core ...   \n",
       "1        How much cost does hair transplant require?   \n",
       "2                      What you send money to China?   \n",
       "3                                  What foods fibre?   \n",
       "4                     How their can I start reading?   \n",
       "\n",
       "                                q1                                       q2  \n",
       "0             surface compare ipad  microsoft choose core core home surface  \n",
       "1  hair transplant much would cost        much cost hair transplant require  \n",
       "2            best send money china                         send money china  \n",
       "3                  food emulsifier                               food fibre  \n",
       "4        aberystwyth start reading                            start reading  "
      ]
     },
     "execution_count": 24,
     "metadata": {},
     "output_type": "execute_result"
    }
   ],
   "source": [
    "# applyiing the clean_text function to question1 in test data \n",
    "test_df['q1'] = test_df['question1'].apply(clean_text)\n",
    "# applyiing the clean_text function to question2 in test data \n",
    "test_df['q2'] = test_df['question2'].apply(clean_text)\n",
    "test_df.head()"
   ]
  },
  {
   "cell_type": "code",
   "execution_count": 25,
   "id": "1f8ad923",
   "metadata": {},
   "outputs": [],
   "source": [
    "#Transforms each text in question1 texts in test data to a sequence of integers and pads each sequence to attain a max_len of 30\n",
    "X_test_q1 = tokenizer.texts_to_sequences(test_df['q1'].ravel())\n",
    "X_test_q1 = pad_sequences(X_test_q1,maxlen = 30, padding='post')\n",
    "#Transforms each text in question2 texts in test data to a sequence of integers and pads each sequence to attain a max_len of 30\n",
    "X_test_q2 = tokenizer.texts_to_sequences(test_df['q2'].astype(str).ravel())\n",
    "X_test_q2 = pad_sequences(X_test_q2, maxlen = 30, padding='post')"
   ]
  },
  {
   "cell_type": "code",
   "execution_count": 26,
   "id": "062008a5",
   "metadata": {},
   "outputs": [
    {
     "name": "stderr",
     "output_type": "stream",
     "text": [
      "400000it [00:13, 29403.13it/s]"
     ]
    },
    {
     "name": "stdout",
     "output_type": "stream",
     "text": [
      "Found 400000 word vectors.\n"
     ]
    },
    {
     "name": "stderr",
     "output_type": "stream",
     "text": [
      "\n"
     ]
    }
   ],
   "source": [
    "e_index = {}\n",
    "#Loading glove file with 200 dimesions \n",
    "glove = open('glove.6B.200d.txt','r',encoding='utf-8')\n",
    "for line in tqdm(glove):\n",
    "    values = line.split(\" \")\n",
    "    word = values[0]\n",
    "    coefs = np.asarray(values[1:], dtype='float32')\n",
    "    # finding number of word vectors\n",
    "    e_index[word] = coefs\n",
    "glove.close()\n",
    "\n",
    "print('Found %s word vectors.' % len(e_index))"
   ]
  },
  {
   "cell_type": "code",
   "execution_count": 27,
   "id": "f51d0b17",
   "metadata": {},
   "outputs": [
    {
     "name": "stderr",
     "output_type": "stream",
     "text": [
      "100%|█████████████████████████████████| 55239/55239 [00:00<00:00, 706671.01it/s]\n"
     ]
    }
   ],
   "source": [
    "#Initializing  embedding matrix \n",
    "e_matrix = np.zeros((len(tokenizer.word_index)+1, 200))\n",
    "#Creating embedding matrix\n",
    "for words, index in tqdm(tokenizer.word_index.items()):\n",
    "    #loading word vectors into embedding vector \n",
    "    e_vector = e_index.get(word)\n",
    "    if e_vector is not None:\n",
    "        e_matrix[index] = e_vector"
   ]
  },
  {
   "cell_type": "code",
   "execution_count": 28,
   "id": "9b0529c0",
   "metadata": {},
   "outputs": [],
   "source": [
    "y = train_df['is_duplicate']"
   ]
  },
  {
   "cell_type": "code",
   "execution_count": 29,
   "id": "b19f6b4e",
   "metadata": {},
   "outputs": [
    {
     "name": "stdout",
     "output_type": "stream",
     "text": [
      "(238817, 30) (238817, 30) (238817,)\n",
      "(59705, 30) (59705, 30) (59705,)\n"
     ]
    }
   ],
   "source": [
    "#splitting the data \n",
    "X_train_q1,X_valid_q1, X_train_q2, X_valid_q2, y_train, y_valid = train_test_split(X_train_q1, X_train_q2, y, test_size=0.20, random_state=12)\n",
    "print(X_train_q1.shape, X_train_q2.shape, y_train.shape)\n",
    "print(X_valid_q1.shape, X_valid_q2.shape, y_valid.shape)"
   ]
  },
  {
   "cell_type": "code",
   "execution_count": 30,
   "id": "8a4283e7",
   "metadata": {},
   "outputs": [],
   "source": [
    "vocab_size = len(tokenizer.word_index) + 1"
   ]
  },
  {
   "cell_type": "code",
   "execution_count": 31,
   "id": "ef54300e",
   "metadata": {},
   "outputs": [
    {
     "name": "stdout",
     "output_type": "stream",
     "text": [
      "Requirement already satisfied: numpy==1.19.5 in /Library/anaconda3/lib/python3.7/site-packages (1.19.5)\n",
      "Note: you may need to restart the kernel to use updated packages.\n"
     ]
    }
   ],
   "source": [
    "pip install numpy==1.19.5"
   ]
  },
  {
   "cell_type": "code",
   "execution_count": 32,
   "id": "0cc8a2cb",
   "metadata": {},
   "outputs": [
    {
     "name": "stderr",
     "output_type": "stream",
     "text": [
      "2022-04-12 12:46:18.080932: I tensorflow/core/platform/cpu_feature_guard.cc:145] This TensorFlow binary is optimized with Intel(R) MKL-DNN to use the following CPU instructions in performance critical operations:  SSE4.1 SSE4.2\n",
      "To enable them in non-MKL-DNN operations, rebuild TensorFlow with the appropriate compiler flags.\n",
      "2022-04-12 12:46:18.083203: I tensorflow/core/common_runtime/process_util.cc:115] Creating new thread pool with default inter op setting: 8. Tune using inter_op_parallelism_threads for best performance.\n"
     ]
    }
   ],
   "source": [
    "#Defining the question1 model with embedding layer ,3 LSTM layers and 2 fully connected dense layers \n",
    "model_q1 = Sequential([Embedding(input_dim = vocab_size,output_dim = 200,weights = [e_matrix],input_length = 30),\n",
    "                      LSTM(128, activation = 'tanh', return_sequences = True),\n",
    "                      Dropout(0.2),\n",
    "                      LSTM(128, return_sequences = True),\n",
    "                      LSTM(128),\n",
    "                      Dense(60, activation = 'tanh'),\n",
    "                      Dense(2, activation = 'sigmoid')])"
   ]
  },
  {
   "cell_type": "code",
   "execution_count": 33,
   "id": "a4ae9533",
   "metadata": {},
   "outputs": [],
   "source": [
    "#Defining the question2 model with embedding layer ,3 LSTM layers and 2 fully connected dense layers \n",
    "model_q2 = Sequential([Embedding(input_dim = vocab_size,output_dim = 200,weights = [e_matrix],input_length = 30),\n",
    "                      LSTM(128, activation = 'tanh', return_sequences = True),\n",
    "                      Dropout(0.2),\n",
    "                      LSTM(128, return_sequences = True),\n",
    "                      LSTM(128),\n",
    "                      Dense(60, activation = 'tanh'),\n",
    "                      Dense(2, activation = 'sigmoid')])"
   ]
  },
  {
   "cell_type": "code",
   "execution_count": 36,
   "id": "ff1135d6",
   "metadata": {},
   "outputs": [],
   "source": [
    "#combing the q1 and q2 models for the final model \n",
    "mergedOut = multiply([model_q1.output, model_q2.output])\n",
    "#Further adding few more dense layers with relu and sigmoid activation functions for merged model \n",
    "mergedOut = Flatten()(mergedOut)\n",
    "mergedOut = Dense(100, activation = 'relu')(mergedOut)\n",
    "mergedOut = Dropout(0.2)(mergedOut)\n",
    "mergedOut = Dense(50, activation = 'relu')(mergedOut)\n",
    "mergedOut = Dropout(0.2)(mergedOut)\n",
    "mergedOut = Dense(2, activation = 'sigmoid')(mergedOut)"
   ]
  },
  {
   "cell_type": "code",
   "execution_count": 37,
   "id": "db8e5f25",
   "metadata": {},
   "outputs": [],
   "source": [
    "#Building the defined model with keras and adam optimizer \n",
    "new_model = tf.keras.Model([model_q1.input, model_q2.input], mergedOut)\n",
    "new_model.compile(optimizer = 'adam', loss = 'sparse_categorical_crossentropy',\n",
    "                 metrics = ['accuracy'])"
   ]
  },
  {
   "cell_type": "code",
   "execution_count": 38,
   "id": "c731609f",
   "metadata": {},
   "outputs": [
    {
     "name": "stdout",
     "output_type": "stream",
     "text": [
      "Model: \"model\"\n",
      "__________________________________________________________________________________________________\n",
      "Layer (type)                    Output Shape         Param #     Connected to                     \n",
      "==================================================================================================\n",
      "embedding_input (InputLayer)    [(None, 30)]         0                                            \n",
      "__________________________________________________________________________________________________\n",
      "embedding_1_input (InputLayer)  [(None, 30)]         0                                            \n",
      "__________________________________________________________________________________________________\n",
      "embedding (Embedding)           (None, 30, 200)      11048000    embedding_input[0][0]            \n",
      "__________________________________________________________________________________________________\n",
      "embedding_1 (Embedding)         (None, 30, 200)      11048000    embedding_1_input[0][0]          \n",
      "__________________________________________________________________________________________________\n",
      "lstm (LSTM)                     (None, 30, 128)      168448      embedding[0][0]                  \n",
      "__________________________________________________________________________________________________\n",
      "lstm_3 (LSTM)                   (None, 30, 128)      168448      embedding_1[0][0]                \n",
      "__________________________________________________________________________________________________\n",
      "dropout (Dropout)               (None, 30, 128)      0           lstm[0][0]                       \n",
      "__________________________________________________________________________________________________\n",
      "dropout_1 (Dropout)             (None, 30, 128)      0           lstm_3[0][0]                     \n",
      "__________________________________________________________________________________________________\n",
      "lstm_1 (LSTM)                   (None, 30, 128)      131584      dropout[0][0]                    \n",
      "__________________________________________________________________________________________________\n",
      "lstm_4 (LSTM)                   (None, 30, 128)      131584      dropout_1[0][0]                  \n",
      "__________________________________________________________________________________________________\n",
      "lstm_2 (LSTM)                   (None, 128)          131584      lstm_1[0][0]                     \n",
      "__________________________________________________________________________________________________\n",
      "lstm_5 (LSTM)                   (None, 128)          131584      lstm_4[0][0]                     \n",
      "__________________________________________________________________________________________________\n",
      "dense (Dense)                   (None, 60)           7740        lstm_2[0][0]                     \n",
      "__________________________________________________________________________________________________\n",
      "dense_2 (Dense)                 (None, 60)           7740        lstm_5[0][0]                     \n",
      "__________________________________________________________________________________________________\n",
      "dense_1 (Dense)                 (None, 2)            122         dense[0][0]                      \n",
      "__________________________________________________________________________________________________\n",
      "dense_3 (Dense)                 (None, 2)            122         dense_2[0][0]                    \n",
      "__________________________________________________________________________________________________\n",
      "multiply (Multiply)             (None, 2)            0           dense_1[0][0]                    \n",
      "                                                                 dense_3[0][0]                    \n",
      "__________________________________________________________________________________________________\n",
      "flatten (Flatten)               (None, 2)            0           multiply[0][0]                   \n",
      "__________________________________________________________________________________________________\n",
      "dense_4 (Dense)                 (None, 100)          300         flatten[0][0]                    \n",
      "__________________________________________________________________________________________________\n",
      "dropout_2 (Dropout)             (None, 100)          0           dense_4[0][0]                    \n",
      "__________________________________________________________________________________________________\n",
      "dense_5 (Dense)                 (None, 50)           5050        dropout_2[0][0]                  \n",
      "__________________________________________________________________________________________________\n",
      "dropout_3 (Dropout)             (None, 50)           0           dense_5[0][0]                    \n",
      "__________________________________________________________________________________________________\n",
      "dense_6 (Dense)                 (None, 2)            102         dropout_3[0][0]                  \n",
      "==================================================================================================\n",
      "Total params: 22,980,408\n",
      "Trainable params: 22,980,408\n",
      "Non-trainable params: 0\n",
      "__________________________________________________________________________________________________\n"
     ]
    }
   ],
   "source": [
    "new_model.summary()"
   ]
  },
  {
   "cell_type": "code",
   "execution_count": 45,
   "id": "6f00b95b",
   "metadata": {},
   "outputs": [],
   "source": [
    "#Converting the data into numpy arrays\n",
    "X_train_q1 = np.array(X_train_q1)\n",
    "X_train_q2 = np.array(X_train_q2)\n",
    "X_valid_q1 = np.array(X_valid_q1)\n",
    "X_valid_q2 = np.array(X_valid_q2)\n",
    "y_train = np.array(y_train)\n",
    "y_valid = np.array(y_valid)"
   ]
  },
  {
   "cell_type": "code",
   "execution_count": 47,
   "id": "0b17b745",
   "metadata": {},
   "outputs": [
    {
     "name": "stdout",
     "output_type": "stream",
     "text": [
      "Train on 238817 samples, validate on 59705 samples\n",
      "Epoch 1/20\n",
      "238817/238817 [==============================] - 6432s 27ms/sample - loss: 0.2870 - accuracy: 0.8726 - val_loss: 0.7023 - val_accuracy: 0.7259\n",
      "Epoch 2/20\n",
      "238817/238817 [==============================] - 2904s 12ms/sample - loss: 0.2740 - accuracy: 0.8786 - val_loss: 0.7152 - val_accuracy: 0.7286\n",
      "Epoch 3/20\n",
      "238817/238817 [==============================] - 2019s 8ms/sample - loss: 0.2623 - accuracy: 0.8850 - val_loss: 0.7645 - val_accuracy: 0.7318\n",
      "Epoch 4/20\n",
      "238817/238817 [==============================] - 5961s 25ms/sample - loss: 0.2532 - accuracy: 0.8897 - val_loss: 0.7831 - val_accuracy: 0.7245\n",
      "Epoch 5/20\n",
      "238817/238817 [==============================] - 2058s 9ms/sample - loss: 0.2424 - accuracy: 0.8949 - val_loss: 0.7952 - val_accuracy: 0.7295\n",
      "Epoch 6/20\n",
      "238817/238817 [==============================] - 2015s 8ms/sample - loss: 0.2354 - accuracy: 0.8982 - val_loss: 0.8372 - val_accuracy: 0.7290\n",
      "Epoch 7/20\n",
      "238817/238817 [==============================] - 1711s 7ms/sample - loss: 0.2255 - accuracy: 0.9032 - val_loss: 0.8799 - val_accuracy: 0.7265\n",
      "Epoch 8/20\n",
      "238817/238817 [==============================] - 1749s 7ms/sample - loss: 0.2186 - accuracy: 0.9062 - val_loss: 0.9068 - val_accuracy: 0.7268\n",
      "Epoch 9/20\n",
      "238817/238817 [==============================] - 2139s 9ms/sample - loss: 0.2080 - accuracy: 0.9108 - val_loss: 0.8916 - val_accuracy: 0.7302\n",
      "Epoch 10/20\n",
      "238817/238817 [==============================] - 1887s 8ms/sample - loss: 0.2043 - accuracy: 0.9125 - val_loss: 0.9987 - val_accuracy: 0.7235\n",
      "Epoch 11/20\n",
      "238817/238817 [==============================] - 1887s 8ms/sample - loss: 0.1980 - accuracy: 0.9152 - val_loss: 0.9253 - val_accuracy: 0.7303\n",
      "Epoch 12/20\n",
      "238817/238817 [==============================] - 1608s 7ms/sample - loss: 0.1894 - accuracy: 0.9193 - val_loss: 0.9667 - val_accuracy: 0.7205\n",
      "Epoch 13/20\n",
      "238817/238817 [==============================] - 2703s 11ms/sample - loss: 0.1843 - accuracy: 0.9216 - val_loss: 1.0145 - val_accuracy: 0.7212\n",
      "Epoch 14/20\n",
      "238817/238817 [==============================] - 2106s 9ms/sample - loss: 0.1766 - accuracy: 0.9248 - val_loss: 1.0477 - val_accuracy: 0.7246\n",
      "Epoch 15/20\n",
      "238817/238817 [==============================] - 5273s 22ms/sample - loss: 0.1717 - accuracy: 0.9271 - val_loss: 1.0347 - val_accuracy: 0.7250\n",
      "Epoch 16/20\n",
      "238817/238817 [==============================] - 3852s 16ms/sample - loss: 0.1676 - accuracy: 0.9284 - val_loss: 1.0734 - val_accuracy: 0.7213\n",
      "Epoch 17/20\n",
      "238817/238817 [==============================] - 8049s 34ms/sample - loss: 0.1630 - accuracy: 0.9308 - val_loss: 1.0662 - val_accuracy: 0.7258\n",
      "Epoch 18/20\n",
      "238817/238817 [==============================] - 3587s 15ms/sample - loss: 0.1579 - accuracy: 0.9330 - val_loss: 1.1562 - val_accuracy: 0.7270\n",
      "Epoch 19/20\n",
      "238817/238817 [==============================] - 1395s 6ms/sample - loss: 0.1533 - accuracy: 0.9345 - val_loss: 1.1235 - val_accuracy: 0.7286\n",
      "Epoch 20/20\n",
      "238817/238817 [==============================] - 1452s 6ms/sample - loss: 0.1477 - accuracy: 0.9376 - val_loss: 1.1532 - val_accuracy: 0.7243\n"
     ]
    }
   ],
   "source": [
    "#Training the model with the training and validation data for  20 epochs \n",
    "history = new_model.fit([X_train_q1,X_train_q2],y_train, batch_size = 2000, epochs = 20, validation_data = ([X_valid_q1,X_valid_q2],y_valid))\n"
   ]
  },
  {
   "cell_type": "code",
   "execution_count": null,
   "id": "319172ec",
   "metadata": {},
   "outputs": [],
   "source": [
    "history.save('model')"
   ]
  },
  {
   "cell_type": "code",
   "execution_count": 49,
   "id": "f3923d9f",
   "metadata": {},
   "outputs": [
    {
     "data": {
      "image/png": "[encoded data removed]",
      "text/plain": [
       "<Figure size 432x288 with 1 Axes>"
      ]
     },
     "metadata": {
      "needs_background": "light"
     },
     "output_type": "display_data"
    },
    {
     "data": {
      "image/png": "[encoded data removed]",
      "text/plain": [
       "<Figure size 432x288 with 1 Axes>"
      ]
     },
     "metadata": {
      "needs_background": "light"
     },
     "output_type": "display_data"
    }
   ],
   "source": [
    "# obtaining  the  accuracy and loss for training \n",
    "accuracy = history.history[\"accuracy\"]\n",
    "loss = history.history[\"loss\"]\n",
    "# obtaining  the  accuracy and loss for validation\n",
    "val_accuracy = history.history[\"val_accuracy\"]\n",
    "val_loss = history.history[\"val_loss\"]\n",
    "\n",
    "#plotting the accuracy for training and validation\n",
    "plt.plot(accuracy,'g',label='training accuracy')\n",
    "plt.plot(val_accuracy, 'r', label='validation accuracy')\n",
    "plt.legend()\n",
    "plt.show()\n",
    "\n",
    "#plotting the loss for training and validation\n",
    "plt.plot(loss,'g',label='training loss')\n",
    "plt.plot(val_loss, 'r', label='validation loss')\n",
    "plt.legend()\n",
    "plt.show()\n"
   ]
  },
  {
   "cell_type": "code",
   "execution_count": 50,
   "id": "575f5a5e",
   "metadata": {},
   "outputs": [
    {
     "name": "stderr",
     "output_type": "stream",
     "text": [
      "2022-04-13 20:10:17.943944: W tensorflow/core/grappler/optimizers/implementation_selector.cc:310] Skipping optimization due to error while loading function libraries: Invalid argument: Functions '__inference_standard_lstm_36567_specialized_for_model_lstm_StatefulPartitionedCall_at___inference_distributed_function_38795' and '__inference_cudnn_lstm_with_fallback_36678' both implement 'lstm_ed97c592-e95a-48a1-94e5-b6acadc63e36' but their signatures do not match.\n"
     ]
    }
   ],
   "source": [
    "#predicting the test data with trained model\n",
    "y_pred = new_model.predict([X_test_q1, X_test_q2])"
   ]
  },
  {
   "cell_type": "code",
   "execution_count": 53,
   "id": "3505fb5e",
   "metadata": {},
   "outputs": [
    {
     "data": {
      "text/plain": [
       "array([0, 0, 1, 1, 1, 0, 1, 1, 1, 0])"
      ]
     },
     "execution_count": 53,
     "metadata": {},
     "output_type": "execute_result"
    }
   ],
   "source": [
    "np.argmax(y_pred[:10], axis=-1)  "
   ]
  },
  {
   "cell_type": "code",
   "execution_count": 51,
   "id": "edd6aa26",
   "metadata": {},
   "outputs": [
    {
     "name": "stderr",
     "output_type": "stream",
     "text": [
      "2022-04-14 07:07:16.032158: W tensorflow/python/util/util.cc:299] Sets are not currently considered sequences, but this may change in the future, so consider avoiding using them.\n"
     ]
    },
    {
     "name": "stdout",
     "output_type": "stream",
     "text": [
      "WARNING:tensorflow:From /Library/anaconda3/lib/python3.7/site-packages/tensorflow_core/python/ops/resource_variable_ops.py:1781: calling BaseResourceVariable.__init__ (from tensorflow.python.ops.resource_variable_ops) with constraint is deprecated and will be removed in a future version.\n",
      "Instructions for updating:\n",
      "If using Keras pass *_constraint arguments to layers.\n",
      "INFO:tensorflow:Assets written to: model1/assets\n"
     ]
    }
   ],
   "source": [
    "#saving the model \n",
    "new_model.save('model1')"
   ]
  },
  {
   "cell_type": "code",
   "execution_count": 54,
   "id": "a42c5bda",
   "metadata": {},
   "outputs": [],
   "source": [
    "new_model.save('model1.h5')"
   ]
  },
  {
   "cell_type": "code",
   "execution_count": null,
   "id": "129405f9",
   "metadata": {},
   "outputs": [],
   "source": []
  },
  {
   "cell_type": "code",
   "execution_count": null,
   "id": "e4af162d",
   "metadata": {},
   "outputs": [],
   "source": []
  }
 ],
 "metadata": {
  "kernelspec": {
   "display_name": "Python 3 (ipykernel)",
   "language": "python",
   "name": "python3"
  },
  "language_info": {
   "codemirror_mode": {
    "name": "ipython",
    "version": 3
   },
   "file_extension": ".py",
   "mimetype": "text/x-python",
   "name": "python",
   "nbconvert_exporter": "python",
   "pygments_lexer": "ipython3",
   "version": "3.7.10"
  }
 },
 "nbformat": 4,
 "nbformat_minor": 5
}
